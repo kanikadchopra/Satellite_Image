{
 "cells": [
  {
   "cell_type": "markdown",
   "metadata": {},
   "source": [
    "## K-Means Clustering\n",
    "\n",
    "Author: Kanika Chopra\n",
    "\n",
    "Date: December 5, 2019"
   ]
  },
  {
   "cell_type": "code",
   "execution_count": 1,
   "metadata": {},
   "outputs": [],
   "source": [
    "import math\n",
    "import rasterio as rio\n",
    "\n",
    "import numpy as np\n",
    "\n",
    "from sklearn.preprocessing import scale\n",
    "from sklearn.cluster import KMeans\n",
    "\n",
    "# For the mathematical side of PCA\n",
    "import operator"
   ]
  },
  {
   "cell_type": "markdown",
   "metadata": {},
   "source": [
    "### Importing the Image"
   ]
  },
  {
   "cell_type": "code",
   "execution_count": 2,
   "metadata": {},
   "outputs": [],
   "source": [
    "image_file = r\"C:\\Users\\RQ\\Documents\\PCA\\GC_Landsat8_SR.tif\"\n",
    "sat_data = rio.open(image_file)"
   ]
  },
  {
   "cell_type": "markdown",
   "metadata": {},
   "source": [
    "#### Calculating the dimensions of the image on Earth in metres"
   ]
  },
  {
   "cell_type": "code",
   "execution_count": 3,
   "metadata": {},
   "outputs": [
    {
     "name": "stdout",
     "output_type": "stream",
     "text": [
      "Width: 0.08556453081239113, Height: 0.1691078522355003\n"
     ]
    }
   ],
   "source": [
    "width_in_projected_units = sat_data.bounds.right - sat_data.bounds.left\n",
    "height_in_projected_units = sat_data.bounds.top - sat_data.bounds.bottom\n",
    "\n",
    "print('Width: {}, Height: {}'.format(width_in_projected_units, height_in_projected_units))"
   ]
  },
  {
   "cell_type": "markdown",
   "metadata": {},
   "source": [
    "#### Convert pixel co-ordinates to longtidues and latitudes"
   ]
  },
  {
   "cell_type": "code",
   "execution_count": 4,
   "metadata": {},
   "outputs": [
    {
     "name": "stdout",
     "output_type": "stream",
     "text": [
      "Top left corner coordinates: (-74.7413587747272, 7.166669505177131)\n",
      "Bottom right corner coordinates: (-74.57238566978432, 7.081239721657364)\n"
     ]
    }
   ],
   "source": [
    "# Upper left pixel\n",
    "row_min = 0\n",
    "col_min = 0\n",
    "\n",
    "# Lower right pizel. Rows and colums are zero indexing.\n",
    "row_max = sat_data.height - 1 \n",
    "col_max = sat_data.width - 1 \n",
    "\n",
    "# Transform coordinates with the dataset's affine transformation\n",
    "topleft = sat_data.transform * (row_min, col_min)\n",
    "botright = sat_data.transform * (row_max, col_max)\n",
    "\n",
    "print(\"Top left corner coordinates: {}\".format(topleft))\n",
    "print(\"Bottom right corner coordinates: {}\".format(botright))"
   ]
  },
  {
   "cell_type": "markdown",
   "metadata": {},
   "source": [
    "#### Bands\n",
    "Let's check how many bands are in our image."
   ]
  },
  {
   "cell_type": "code",
   "execution_count": 5,
   "metadata": {},
   "outputs": [
    {
     "name": "stdout",
     "output_type": "stream",
     "text": [
      "Bands: 12\n",
      "(1, 2, 3, 4, 5, 6, 7, 8, 9, 10, 11, 12)\n"
     ]
    }
   ],
   "source": [
    "print('Bands: {}'.format(sat_data.count))\n",
    "\n",
    "# Sequence of band indexes\n",
    "print(sat_data.indexes)"
   ]
  },
  {
   "cell_type": "markdown",
   "metadata": {},
   "source": [
    "### Data Preprocessing"
   ]
  },
  {
   "cell_type": "code",
   "execution_count": 6,
   "metadata": {},
   "outputs": [
    {
     "data": {
      "text/plain": [
       "{'driver': 'GTiff',\n",
       " 'dtype': 'float64',\n",
       " 'nodata': None,\n",
       " 'width': 635,\n",
       " 'height': 1255,\n",
       " 'count': 12,\n",
       " 'crs': CRS.from_dict(init='epsg:4326'),\n",
       " 'transform': Affine(0.00013474729261792824, 0.0, -74.7413587747272,\n",
       "        0.0, -0.00013474729261792824, 7.166669505177131)}"
      ]
     },
     "execution_count": 6,
     "metadata": {},
     "output_type": "execute_result"
    }
   ],
   "source": [
    "src_meta = sat_data.meta\n",
    "\n",
    "src_meta"
   ]
  },
  {
   "cell_type": "code",
   "execution_count": 7,
   "metadata": {},
   "outputs": [
    {
     "data": {
      "text/plain": [
       "(12, 1255, 635)"
      ]
     },
     "execution_count": 7,
     "metadata": {},
     "output_type": "execute_result"
    }
   ],
   "source": [
    "img = sat_data.read()\n",
    "\n",
    "img.shape"
   ]
  },
  {
   "cell_type": "code",
   "execution_count": 8,
   "metadata": {},
   "outputs": [
    {
     "data": {
      "text/plain": [
       "array([[[  nan,   nan,   nan, ...,   nan,   nan,   nan],\n",
       "        [310. , 310. , 235. , ..., 229. , 274.5, 274.5],\n",
       "        [310. , 310. , 235. , ..., 243. , 285. , 285. ],\n",
       "        ...,\n",
       "        [230. , 237. , 237. , ..., 148. , 148. , 153.5],\n",
       "        [230. , 237. , 237. , ..., 148. , 148. , 153.5],\n",
       "        [230. , 306. , 306. , ..., 143.5, 143.5, 167.5]],\n",
       "\n",
       "       [[  nan,   nan,   nan, ...,   nan,   nan,   nan],\n",
       "        [360. , 360. , 245. , ..., 255.5, 298. , 298. ],\n",
       "        [360. , 360. , 245. , ..., 264. , 296. , 296. ],\n",
       "        ...,\n",
       "        [314. , 308. , 308. , ..., 215.5, 215.5, 232.5],\n",
       "        [314. , 308. , 308. , ..., 215.5, 215.5, 232.5],\n",
       "        [310. , 396. , 396. , ..., 236.5, 236.5, 284. ]],\n",
       "\n",
       "       [[  nan,   nan,   nan, ...,   nan,   nan,   nan],\n",
       "        [652. , 652. , 526. , ..., 457. , 558.5, 558.5],\n",
       "        [652. , 652. , 526. , ..., 467.5, 553. , 553. ],\n",
       "        ...,\n",
       "        [712. , 706.5, 706.5, ..., 595. , 595. , 628.5],\n",
       "        [712. , 706.5, 706.5, ..., 595. , 595. , 628.5],\n",
       "        [760.5, 874. , 874. , ..., 693. , 693. , 793.5]],\n",
       "\n",
       "       ...,\n",
       "\n",
       "       [[  nan,   nan,   nan, ...,   nan,   nan,   nan],\n",
       "        [ 96. ,  96. ,  96. , ...,  96. ,  96. ,  96. ],\n",
       "        [ 96. ,  96. ,  96. , ...,  96. ,  96. ,  96. ],\n",
       "        ...,\n",
       "        [ 96. ,  96. ,  96. , ...,  98. ,  98. ,  98. ],\n",
       "        [ 96. ,  96. ,  96. , ...,  98. ,  98. ,  98. ],\n",
       "        [ 96. ,  96. ,  96. , ..., 130. , 130. , 160. ]],\n",
       "\n",
       "       [[  nan,   nan,   nan, ...,   nan,   nan,   nan],\n",
       "        [322. , 322. , 322. , ..., 322. , 322. , 322. ],\n",
       "        [322. , 322. , 322. , ..., 322. , 322. , 322. ],\n",
       "        ...,\n",
       "        [322. , 322. , 322. , ..., 322. , 322. , 322. ],\n",
       "        [322. , 322. , 322. , ..., 322. , 322. , 322. ],\n",
       "        [322. , 322. , 322. , ..., 322. , 322. , 322. ]],\n",
       "\n",
       "       [[  nan,   nan,   nan, ...,   nan,   nan,   nan],\n",
       "        [  0. ,   0. ,   0. , ...,   0. ,   0. ,   0. ],\n",
       "        [  0. ,   0. ,   0. , ...,   0. ,   0. ,   0. ],\n",
       "        ...,\n",
       "        [  0. ,   0. ,   0. , ...,   0. ,   0. ,   0. ],\n",
       "        [  0. ,   0. ,   0. , ...,   0. ,   0. ,   0. ],\n",
       "        [  0. ,   0. ,   0. , ...,   0. ,   0. ,   0. ]]])"
      ]
     },
     "execution_count": 8,
     "metadata": {},
     "output_type": "execute_result"
    }
   ],
   "source": [
    "img"
   ]
  },
  {
   "cell_type": "code",
   "execution_count": 9,
   "metadata": {},
   "outputs": [
    {
     "data": {
      "text/plain": [
       "(12, 1255, 635)"
      ]
     },
     "execution_count": 9,
     "metadata": {},
     "output_type": "execute_result"
    }
   ],
   "source": [
    "n_bands = src_meta['count']\n",
    "height = src_meta['height']\n",
    "width = src_meta['width']\n",
    "\n",
    "n_bands, height, width"
   ]
  },
  {
   "cell_type": "code",
   "execution_count": 83,
   "metadata": {},
   "outputs": [
    {
     "data": {
      "text/plain": [
       "(796925, 12)"
      ]
     },
     "execution_count": 83,
     "metadata": {},
     "output_type": "execute_result"
    }
   ],
   "source": [
    "# Goal: We want to convert (n_bands, height,width) = (12, 1255, 635) into an array that is (n_pixel, n_bands) = (796925, 12)\n",
    "flattened_img = img.reshape(n_bands, -1)\n",
    "flattened_img = flattened_img.T \n",
    "n_pixels = flattened_img.shape[0]\n",
    "\n",
    "flattened_img.shape"
   ]
  },
  {
   "cell_type": "code",
   "execution_count": 84,
   "metadata": {},
   "outputs": [
    {
     "data": {
      "text/plain": [
       "array([[  nan,   nan,   nan, ...,   nan,   nan,   nan],\n",
       "       [  nan,   nan,   nan, ...,   nan,   nan,   nan],\n",
       "       [  nan,   nan,   nan, ...,   nan,   nan,   nan],\n",
       "       ...,\n",
       "       [143.5, 236.5, 693. , ..., 130. , 322. ,   0. ],\n",
       "       [143.5, 236.5, 693. , ..., 130. , 322. ,   0. ],\n",
       "       [167.5, 284. , 793.5, ..., 160. , 322. ,   0. ]])"
      ]
     },
     "execution_count": 84,
     "metadata": {},
     "output_type": "execute_result"
    }
   ],
   "source": [
    "flattened_img"
   ]
  },
  {
   "cell_type": "code",
   "execution_count": 85,
   "metadata": {},
   "outputs": [],
   "source": [
    "# The user will input the number of clusters, but for our case let's try out 5 \n",
    "n_clusters = 5 "
   ]
  },
  {
   "cell_type": "markdown",
   "metadata": {},
   "source": [
    "### Standardizing the Data\n",
    "We need to remove the null data from the image and then standardize the data so we can use the non-nulls for the PCA."
   ]
  },
  {
   "cell_type": "code",
   "execution_count": 138,
   "metadata": {},
   "outputs": [
    {
     "data": {
      "text/plain": [
       "array([[-1.],\n",
       "       [-1.],\n",
       "       [-1.],\n",
       "       ...,\n",
       "       [-1.],\n",
       "       [-1.],\n",
       "       [-1.]])"
      ]
     },
     "execution_count": 138,
     "metadata": {},
     "output_type": "execute_result"
    }
   ],
   "source": [
    "# Create an empty array for the results\n",
    "KMeans_results = np.ones((n_pixels, 1)) * -1 \n",
    "\n",
    "KMeans_results"
   ]
  },
  {
   "cell_type": "code",
   "execution_count": 153,
   "metadata": {},
   "outputs": [],
   "source": [
    "# Create mask for null values\n",
    "null_mask = np.isnan(flattened_img).all(axis=1)\n",
    "\n",
    "notnull_array = flattened_img[~null_mask]"
   ]
  },
  {
   "cell_type": "code",
   "execution_count": 140,
   "metadata": {},
   "outputs": [
    {
     "data": {
      "text/plain": [
       "(796290, 12)"
      ]
     },
     "execution_count": 140,
     "metadata": {},
     "output_type": "execute_result"
    }
   ],
   "source": [
    "# First we standardize the not null data for the PCA \n",
    "std_array = scale(notnull_array, axis=0)\n",
    "\n",
    "std_array.shape"
   ]
  },
  {
   "cell_type": "code",
   "execution_count": 141,
   "metadata": {},
   "outputs": [
    {
     "data": {
      "text/plain": [
       "635"
      ]
     },
     "execution_count": 141,
     "metadata": {},
     "output_type": "execute_result"
    }
   ],
   "source": [
    "# Let's find out how many rows of NaNs we dropped\n",
    "flattened_img.shape[0] - std_array.shape[0]"
   ]
  },
  {
   "cell_type": "markdown",
   "metadata": {},
   "source": [
    "### K-Means Clustering\n",
    "Let's perform the K-means clustering now to our data with non-nulls."
   ]
  },
  {
   "cell_type": "code",
   "execution_count": 142,
   "metadata": {},
   "outputs": [
    {
     "data": {
      "text/plain": [
       "KMeans(algorithm='auto', copy_x=True, init='k-means++', max_iter=300,\n",
       "       n_clusters=5, n_init=10, n_jobs=None, precompute_distances='auto',\n",
       "       random_state=None, tol=0.0001, verbose=0)"
      ]
     },
     "execution_count": 142,
     "metadata": {},
     "output_type": "execute_result"
    }
   ],
   "source": [
    "# K Means \n",
    "Kmean= KMeans(n_clusters=n_clusters, init='k-means++')\n",
    "Kmean.fit(std_array)"
   ]
  },
  {
   "cell_type": "code",
   "execution_count": 143,
   "metadata": {},
   "outputs": [
    {
     "data": {
      "text/plain": [
       "array([[ 7.31836203e-01,  8.01238507e-01,  8.87354722e-01,\n",
       "         8.76319064e-01,  1.47169417e-01,  1.14098109e+00,\n",
       "         1.05103891e+00,  6.48093878e-01,  5.33904215e-01,\n",
       "         1.48317917e-01, -7.14552323e-03,  0.00000000e+00],\n",
       "       [-6.46963826e-01, -7.26292445e-01, -8.55352809e-01,\n",
       "        -7.99739660e-01, -1.29226471e-01, -9.66677060e-01,\n",
       "        -9.26454438e-01, -8.40474372e-01, -7.48498553e-01,\n",
       "        -1.25604361e-01, -4.82528936e-03,  0.00000000e+00],\n",
       "       [ 4.09826736e+00,  4.08046708e+00,  2.97759368e+00,\n",
       "         2.46418944e+00, -8.73129753e-01,  8.53462584e-01,\n",
       "         1.57967208e+00, -1.72052691e+00, -1.98929667e+00,\n",
       "         6.53983725e-01,  1.39837001e+02,  0.00000000e+00],\n",
       "       [ 3.83530710e+00,  3.96165700e+00,  3.35701389e+00,\n",
       "         3.71094823e+00, -1.56772610e+00,  1.55677921e+00,\n",
       "         2.74656465e+00,  1.55190192e+00,  1.33383503e+00,\n",
       "         1.29941542e+00, -7.14552323e-03,  0.00000000e+00],\n",
       "       [-1.68197196e-01, -1.48894589e-01, -3.83457140e-02,\n",
       "        -1.11185047e-01,  1.39044132e-01,  2.54569835e-02,\n",
       "        -3.87969694e-02,  2.50422837e-01,  2.57185302e-01,\n",
       "        -7.81949965e-02, -7.14552323e-03,  0.00000000e+00]])"
      ]
     },
     "execution_count": 143,
     "metadata": {},
     "output_type": "execute_result"
    }
   ],
   "source": [
    "# Finding the centroids \n",
    "Kmean.cluster_centers_"
   ]
  },
  {
   "cell_type": "code",
   "execution_count": 144,
   "metadata": {},
   "outputs": [
    {
     "data": {
      "text/plain": [
       "(796290, 1)"
      ]
     },
     "execution_count": 144,
     "metadata": {},
     "output_type": "execute_result"
    }
   ],
   "source": [
    "# Labels of the clusters for the array\n",
    "X_clustered = Kmean.labels_\n",
    "point = X_clustered.shape[0]\n",
    "X_clustered = X_clustered.reshape(point,1)\n",
    "\n",
    "X_clustered.shape"
   ]
  },
  {
   "cell_type": "markdown",
   "metadata": {},
   "source": [
    "### Creating the New Image Array\n",
    "\n",
    "We need to replace the correct rows of KMeans_results with -1 for NaNs and with the appropriate K-means clusters. Then, we reshape the data into (1, height, width) so we can export it as a single-band image."
   ]
  },
  {
   "cell_type": "code",
   "execution_count": 147,
   "metadata": {},
   "outputs": [
    {
     "data": {
      "text/plain": [
       "(796925, 1)"
      ]
     },
     "execution_count": 147,
     "metadata": {},
     "output_type": "execute_result"
    }
   ],
   "source": [
    "KMeans_results.shape"
   ]
  },
  {
   "cell_type": "code",
   "execution_count": 165,
   "metadata": {},
   "outputs": [
    {
     "ename": "IndexError",
     "evalue": "boolean index did not match indexed array along dimension 0; dimension is 1 but corresponding boolean dimension is 796925",
     "output_type": "error",
     "traceback": [
      "\u001b[1;31m---------------------------------------------------------------------------\u001b[0m",
      "\u001b[1;31mIndexError\u001b[0m                                Traceback (most recent call last)",
      "\u001b[1;32m<ipython-input-165-e3fbf553418a>\u001b[0m in \u001b[0;36m<module>\u001b[1;34m\u001b[0m\n\u001b[0;32m      1\u001b[0m \u001b[1;31m# Change the not null values to the clusters\u001b[0m\u001b[1;33m\u001b[0m\u001b[1;33m\u001b[0m\u001b[1;33m\u001b[0m\u001b[0m\n\u001b[1;32m----> 2\u001b[1;33m \u001b[0mKMeans_results\u001b[0m\u001b[1;33m[\u001b[0m\u001b[1;33m~\u001b[0m\u001b[0mnull_mask\u001b[0m\u001b[1;33m]\u001b[0m \u001b[1;33m=\u001b[0m \u001b[0mX_clustered\u001b[0m\u001b[1;33m\u001b[0m\u001b[1;33m\u001b[0m\u001b[0m\n\u001b[0m",
      "\u001b[1;31mIndexError\u001b[0m: boolean index did not match indexed array along dimension 0; dimension is 1 but corresponding boolean dimension is 796925"
     ]
    }
   ],
   "source": [
    "# Change the not null values to the clusters \n",
    "KMeans_results[~null_mask] = X_clustered"
   ]
  },
  {
   "cell_type": "code",
   "execution_count": 149,
   "metadata": {},
   "outputs": [
    {
     "data": {
      "text/plain": [
       "array([[[-1., -1., -1., ..., -1., -1., -1.],\n",
       "        [ 0.,  0.,  4., ...,  1.,  4.,  4.],\n",
       "        [ 0.,  0.,  4., ...,  1.,  4.,  4.],\n",
       "        ...,\n",
       "        [ 0.,  0.,  0., ...,  1.,  1.,  1.],\n",
       "        [ 0.,  0.,  0., ...,  1.,  1.,  1.],\n",
       "        [ 0.,  0.,  0., ...,  1.,  1.,  4.]]])"
      ]
     },
     "execution_count": 149,
     "metadata": {},
     "output_type": "execute_result"
    }
   ],
   "source": [
    "# Reshape the data to (1, height, width) so it is a single-band image\n",
    "KMeans_results = KMeans_results.reshape(1, height, width)\n",
    "\n",
    "KMeans_results"
   ]
  },
  {
   "cell_type": "code",
   "execution_count": 150,
   "metadata": {},
   "outputs": [
    {
     "data": {
      "text/plain": [
       "(1, 1255, 635)"
      ]
     },
     "execution_count": 150,
     "metadata": {},
     "output_type": "execute_result"
    }
   ],
   "source": [
    "# Check the shape again\n",
    "KMeans_results.shape"
   ]
  },
  {
   "cell_type": "code",
   "execution_count": 151,
   "metadata": {},
   "outputs": [
    {
     "data": {
      "text/plain": [
       "{'driver': 'GTiff',\n",
       " 'dtype': 'float64',\n",
       " 'nodata': -1,\n",
       " 'width': 635,\n",
       " 'height': 1255,\n",
       " 'count': 1,\n",
       " 'crs': CRS.from_dict(init='epsg:4326'),\n",
       " 'transform': Affine(0.00013474729261792824, 0.0, -74.7413587747272,\n",
       "        0.0, -0.00013474729261792824, 7.166669505177131)}"
      ]
     },
     "execution_count": 151,
     "metadata": {},
     "output_type": "execute_result"
    }
   ],
   "source": [
    "# Make a copy of the source dictionary \n",
    "dst_meta = src_meta.copy()\n",
    "\n",
    "# Change dtypes to int32, nodata=-1 since we replaced all NaNs and count to 1 since it is a single-band image\n",
    "dst_meta['dtype'] = 'float64'\n",
    "dst_meta['nodata'] = -1\n",
    "dst_meta['count'] = 1 \n",
    "\n",
    "dst_meta"
   ]
  },
  {
   "cell_type": "code",
   "execution_count": 152,
   "metadata": {},
   "outputs": [],
   "source": [
    "# Open a new file in 'write' mode and unpack (**) the destination metadata\n",
    "dst_fp = r\"C:\\Users\\RQ\\Documents\\PCA\\GC_Landsat8_KMeans.tif\"\n",
    "with rio.open(dst_fp, 'w', **dst_meta) as dst:\n",
    "    dst.write(KMeans_results)"
   ]
  },
  {
   "cell_type": "markdown",
   "metadata": {},
   "source": [
    "This completes our K-means clustering for satellite images."
   ]
  },
  {
   "cell_type": "markdown",
   "metadata": {},
   "source": [
    "### Generalization\n",
    "We want to create a general function that will allow us to input the input filepath, the number of clusters, a list of bands to use and an output path to export the single-band image to."
   ]
  },
  {
   "cell_type": "code",
   "execution_count": 172,
   "metadata": {},
   "outputs": [],
   "source": [
    "# -*- coding: utf-8 -*-\n",
    "\"\"\"\n",
    "Created on Thu Dec  5 15:20:52 2019\n",
    "\n",
    "@author: Kanika Chopra\n",
    "\"\"\"\n",
    "\n",
    "import os\n",
    "import rasterio as rio\n",
    "import numpy as np\n",
    "\n",
    "from sklearn.preprocessing import scale\n",
    "from sklearn.cluster import KMeans\n",
    "\n",
    "def clustering_image(input_fp, n_clusters, output_fp=None, band_lst=None):\n",
    "    ''' \n",
    "    Takes an image of the format .TIF from the input_fp and conducts k-means \n",
    "    clustering with n_clusters to get a single-band image outputting into the \n",
    "    output_fp. If band_lst is specified, it will only conduct the k-means \n",
    "    clustering on the specified bands.\n",
    "    \n",
    "    \n",
    "    Args: \n",
    "        input_fp (str): The file path to retrieve the .TIF file from \n",
    "        n_clusters (int): The number of clusters for k-means clustering\n",
    "        output_fp (str): The file path to export the image to once it is \n",
    "        transformed\n",
    "            None, _kmeans + n_clusters will be added to the input filepath \n",
    "            (default: None)\n",
    "        band_lst (lst): The list of bands in the image that you want to transform\n",
    "            None, all of the bands will be used. \n",
    "            (default: None)\n",
    "    Returns:\n",
    "        None, it will print that the New Kmeans image is stored in the \n",
    "        output_fp\n",
    "        \n",
    "    @author: Kanika Chopra\n",
    "    '''\n",
    "    # Import and open the image\n",
    "    sat_data = rio.open(input_fp)\n",
    "    \n",
    "    # Collect important data from metadata of original image\n",
    "    src_meta = sat_data.meta\n",
    "    n_bands = src_meta['count']\n",
    "    height = src_meta['height']\n",
    "    width = src_meta['width']\n",
    "    \n",
    "    # Read the image\n",
    "    if band_lst is not None:\n",
    "        img = sat_data.read(band_lst)\n",
    "        n_bands = len(band_lst)\n",
    "    else:\n",
    "        img = sat_data.read()\n",
    "        \n",
    "    print('Image has been read in')\n",
    "        \n",
    "       \n",
    "    # We convert (n_bands, height, width) to an array of shape (n_pixel, n_bands)\n",
    "    flattened_img = img.reshape(n_bands, -1)\n",
    "    flattened_img = flattened_img.T\n",
    "    n_pixels = flattened_img.shape[0]\n",
    "    \n",
    "    # Create an empty array for the results\n",
    "    KMeans_results = np.ones((n_pixels, 1)) * -1 \n",
    "\n",
    "    # Collecting the Data that only has the non-nulls\n",
    "    null_mask = np.isnan(flattened_img).all(axis=1)\n",
    "    notnull_array = flattened_img[~null_mask]\n",
    "    \n",
    "    # K-Means Clustering with the non Null array\n",
    "    results = kmeans(notnull_array, n_clusters, n_pixels)\n",
    "    \n",
    "    # Replacing the correct rows of the KMeans_results with the clustering\n",
    "    KMeans_results[~null_mask] = results\n",
    "    \n",
    "    # Reshaping data to a single-band image (1, height, width)\n",
    "    KMeans_results = KMeans_results.reshape(1, height, width)\n",
    "\n",
    "    # Export the image \n",
    "    if output_fp is None:\n",
    "        output_fp = append_file_suffix(input_fp, 'kmeans' + str(n_clusters))\n",
    "    \n",
    "    # Update destination metadata\n",
    "    dst_meta = src_meta.copy()\n",
    "    dst_meta['dtype'] = 'float64'\n",
    "    dst_meta['nodata'] = -1\n",
    "    dst_meta['count'] = 1 \n",
    "\n",
    "    with rio.open(output_fp, 'w', **dst_meta) as dst:\n",
    "        dst.write(KMeans_results)\n",
    "    \n",
    "    \n",
    "    print('New Image after K-Means Clustering stored in ' + output_fp)\n",
    "    \n",
    "    \n",
    "def kmeans(array, n_clusters, n_pixels):\n",
    "    '''\n",
    "    Standardizes the array and performs K-Means Clustering with n_clusters \n",
    "    \n",
    "    Args: \n",
    "        array (np.array): The array for K-Means Clustering (has no Nulls).\n",
    "        n_clusters (int): The number of clusters to organize the data into \n",
    "        when clustering.\n",
    "        n_pixels (int): The number of pixels in the satellite image.\n",
    "        \n",
    "    Returns:\n",
    "        An array after the K-Means Clustering where the values are cluster values \n",
    "        from (0, 1, 2, ..., n_clusters-1)\n",
    "            \n",
    "    @author: Kanika Chopra\n",
    "    '''\n",
    "\n",
    "    # Standardize the array \n",
    "    std_array = scale(array, axis=0)\n",
    "    \n",
    "    # K-Means Clustering\n",
    "    Kmean = KMeans(n_clusters = n_clusters, init='k-means++')\n",
    "    Kmean.fit(std_array)\n",
    "    \n",
    "    X_clustered = Kmean.labels_    \n",
    "    X_clustered = X_clustered.reshape(n_pixels,1)\n",
    "    \n",
    "    return X_clustered \n",
    "\n",
    "    \n",
    "def append_file_suffix(filepath, suffix=None):\n",
    "    ''' Appends a suffix to a filepath. \n",
    "    Args: \n",
    "        filepath (str): The file path to modify. \n",
    "        suffix (str): The suffix to be appended to the filepath string \n",
    "            None, no suffix is appended (default: None)\n",
    "    Returns: \n",
    "        str: The file path with added suffix\n",
    "    @author: charles\n",
    "    '''\n",
    "    name, ext = os.path.splitext(filepath)\n",
    "    if suffix is not None: \n",
    "        filepath = \"{name}_{uid}{ext}\".format(name=name, uid=suffix, ext=ext)\n",
    "        \n",
    "    return filepath"
   ]
  },
  {
   "cell_type": "code",
   "execution_count": 161,
   "metadata": {},
   "outputs": [
    {
     "name": "stdout",
     "output_type": "stream",
     "text": [
      "Image has been read in\n",
      "New Image after K-Means Clustering stored in C:\\Users\\RQ\\Documents\\PCA\\GC_Landsat8_SR_kmeans5.tif\n"
     ]
    }
   ],
   "source": [
    "test = clustering_image(image_file, 5)"
   ]
  },
  {
   "cell_type": "code",
   "execution_count": 169,
   "metadata": {},
   "outputs": [
    {
     "data": {
      "text/plain": [
       "array([[[-1., -1., -1., ..., -1., -1., -1.],\n",
       "        [ 0.,  0.,  3., ...,  3.,  0.,  0.],\n",
       "        [ 0.,  0.,  3., ...,  3.,  3.,  3.],\n",
       "        ...,\n",
       "        [ 0.,  0.,  0., ...,  3.,  3.,  3.],\n",
       "        [ 0.,  0.,  0., ...,  3.,  3.,  3.],\n",
       "        [ 0.,  0.,  0., ...,  4.,  4.,  4.]]])"
      ]
     },
     "execution_count": 169,
     "metadata": {},
     "output_type": "execute_result"
    }
   ],
   "source": [
    "test"
   ]
  }
 ],
 "metadata": {
  "kernelspec": {
   "display_name": "Python [conda env:pca] *",
   "language": "python",
   "name": "conda-env-pca-py"
  },
  "language_info": {
   "codemirror_mode": {
    "name": "ipython",
    "version": 3
   },
   "file_extension": ".py",
   "mimetype": "text/x-python",
   "name": "python",
   "nbconvert_exporter": "python",
   "pygments_lexer": "ipython3",
   "version": "3.7.5"
  }
 },
 "nbformat": 4,
 "nbformat_minor": 2
}
