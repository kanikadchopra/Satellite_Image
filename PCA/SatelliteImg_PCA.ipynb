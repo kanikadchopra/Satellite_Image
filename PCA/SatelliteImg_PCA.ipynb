{
 "cells": [
  {
   "cell_type": "code",
   "execution_count": 1,
   "metadata": {},
   "outputs": [],
   "source": [
    "import math\n",
    "import rasterio as rio\n",
    "\n",
    "import numpy as np\n",
    "\n",
    "from sklearn.preprocessing import scale\n",
    "from sklearn.decomposition import PCA as sklearnPCA\n",
    "\n",
    "# For the mathematical side of PCA\n",
    "import operator"
   ]
  },
  {
   "cell_type": "markdown",
   "metadata": {},
   "source": [
    "### Importing the Image"
   ]
  },
  {
   "cell_type": "code",
   "execution_count": 2,
   "metadata": {},
   "outputs": [],
   "source": [
    "image_file = r\"C:\\Users\\RQ\\Documents\\PCA\\GC_Landsat8_SR.tif\"\n",
    "sat_data = rio.open(image_file)"
   ]
  },
  {
   "cell_type": "markdown",
   "metadata": {},
   "source": [
    "### Calculating the dimensions of the image on Earth in metres"
   ]
  },
  {
   "cell_type": "code",
   "execution_count": 3,
   "metadata": {},
   "outputs": [
    {
     "name": "stdout",
     "output_type": "stream",
     "text": [
      "Width: 0.08556453081239113, Height: 0.1691078522355003\n"
     ]
    }
   ],
   "source": [
    "width_in_projected_units = sat_data.bounds.right - sat_data.bounds.left\n",
    "height_in_projected_units = sat_data.bounds.top - sat_data.bounds.bottom\n",
    "\n",
    "print('Width: {}, Height: {}'.format(width_in_projected_units, height_in_projected_units))"
   ]
  },
  {
   "cell_type": "markdown",
   "metadata": {},
   "source": [
    "### Convert pixel co-ordinates to longtidues and latitudes\n"
   ]
  },
  {
   "cell_type": "code",
   "execution_count": 4,
   "metadata": {},
   "outputs": [
    {
     "name": "stdout",
     "output_type": "stream",
     "text": [
      "Top left corner coordinates: (-74.7413587747272, 7.166669505177131)\n",
      "Bottom right corner coordinates: (-74.57238566978432, 7.081239721657364)\n"
     ]
    }
   ],
   "source": [
    "# Upper left pixel\n",
    "row_min = 0\n",
    "col_min = 0\n",
    "\n",
    "# Lower right pizel. Rows and colums are zero indexing.\n",
    "row_max = sat_data.height - 1 \n",
    "col_max = sat_data.width - 1 \n",
    "\n",
    "# Transform coordinates with the dataset's affine transformation\n",
    "topleft = sat_data.transform * (row_min, col_min)\n",
    "botright = sat_data.transform * (row_max, col_max)\n",
    "\n",
    "print(\"Top left corner coordinates: {}\".format(topleft))\n",
    "print(\"Bottom right corner coordinates: {}\".format(botright))"
   ]
  },
  {
   "cell_type": "markdown",
   "metadata": {},
   "source": [
    "### Bands\n",
    "Let's check how many bands are in our image."
   ]
  },
  {
   "cell_type": "code",
   "execution_count": 5,
   "metadata": {},
   "outputs": [
    {
     "name": "stdout",
     "output_type": "stream",
     "text": [
      "Bands: 12\n",
      "(1, 2, 3, 4, 5, 6, 7, 8, 9, 10, 11, 12)\n"
     ]
    }
   ],
   "source": [
    "print('Bands: {}'.format(sat_data.count))\n",
    "\n",
    "# Sequence of band indexes\n",
    "print(sat_data.indexes)"
   ]
  },
  {
   "cell_type": "markdown",
   "metadata": {},
   "source": [
    "### Data Preprocessing"
   ]
  },
  {
   "cell_type": "code",
   "execution_count": 6,
   "metadata": {},
   "outputs": [
    {
     "data": {
      "text/plain": [
       "{'driver': 'GTiff',\n",
       " 'dtype': 'float64',\n",
       " 'nodata': None,\n",
       " 'width': 635,\n",
       " 'height': 1255,\n",
       " 'count': 12,\n",
       " 'crs': CRS.from_dict(init='epsg:4326'),\n",
       " 'transform': Affine(0.00013474729261792824, 0.0, -74.7413587747272,\n",
       "        0.0, -0.00013474729261792824, 7.166669505177131)}"
      ]
     },
     "execution_count": 6,
     "metadata": {},
     "output_type": "execute_result"
    }
   ],
   "source": [
    "src_meta = sat_data.meta\n",
    "\n",
    "src_meta"
   ]
  },
  {
   "cell_type": "code",
   "execution_count": 19,
   "metadata": {},
   "outputs": [],
   "source": [
    "band_lst = None"
   ]
  },
  {
   "cell_type": "code",
   "execution_count": 20,
   "metadata": {},
   "outputs": [
    {
     "data": {
      "text/plain": [
       "array([[[  nan,   nan,   nan, ...,   nan,   nan,   nan],\n",
       "        [310. , 310. , 235. , ..., 229. , 274.5, 274.5],\n",
       "        [310. , 310. , 235. , ..., 243. , 285. , 285. ],\n",
       "        ...,\n",
       "        [230. , 237. , 237. , ..., 148. , 148. , 153.5],\n",
       "        [230. , 237. , 237. , ..., 148. , 148. , 153.5],\n",
       "        [230. , 306. , 306. , ..., 143.5, 143.5, 167.5]],\n",
       "\n",
       "       [[  nan,   nan,   nan, ...,   nan,   nan,   nan],\n",
       "        [360. , 360. , 245. , ..., 255.5, 298. , 298. ],\n",
       "        [360. , 360. , 245. , ..., 264. , 296. , 296. ],\n",
       "        ...,\n",
       "        [314. , 308. , 308. , ..., 215.5, 215.5, 232.5],\n",
       "        [314. , 308. , 308. , ..., 215.5, 215.5, 232.5],\n",
       "        [310. , 396. , 396. , ..., 236.5, 236.5, 284. ]],\n",
       "\n",
       "       [[  nan,   nan,   nan, ...,   nan,   nan,   nan],\n",
       "        [652. , 652. , 526. , ..., 457. , 558.5, 558.5],\n",
       "        [652. , 652. , 526. , ..., 467.5, 553. , 553. ],\n",
       "        ...,\n",
       "        [712. , 706.5, 706.5, ..., 595. , 595. , 628.5],\n",
       "        [712. , 706.5, 706.5, ..., 595. , 595. , 628.5],\n",
       "        [760.5, 874. , 874. , ..., 693. , 693. , 793.5]],\n",
       "\n",
       "       [[  nan,   nan,   nan, ...,   nan,   nan,   nan],\n",
       "        [580. , 580. , 359. , ..., 271.5, 361. , 361. ],\n",
       "        [580. , 580. , 359. , ..., 284. , 381.5, 381.5],\n",
       "        ...,\n",
       "        [664. , 671. , 671. , ..., 357. , 357. , 390. ],\n",
       "        [664. , 671. , 671. , ..., 357. , 357. , 390. ],\n",
       "        [605. , 831. , 831. , ..., 488. , 488. , 667.5]]])"
      ]
     },
     "execution_count": 20,
     "metadata": {},
     "output_type": "execute_result"
    }
   ],
   "source": [
    "img"
   ]
  },
  {
   "cell_type": "code",
   "execution_count": 21,
   "metadata": {},
   "outputs": [
    {
     "data": {
      "text/plain": [
       "(12, 1255, 635)"
      ]
     },
     "execution_count": 21,
     "metadata": {},
     "output_type": "execute_result"
    }
   ],
   "source": [
    "src_meta = sat_data.meta\n",
    "n_bands = src_meta['count']\n",
    "height = src_meta['height']\n",
    "width = src_meta['width']\n",
    "\n",
    "n_bands, height, width"
   ]
  },
  {
   "cell_type": "code",
   "execution_count": 22,
   "metadata": {},
   "outputs": [],
   "source": [
    "# Read the image\n",
    "if band_lst!=None:\n",
    "     img = sat_data.read(band_lst)\n",
    "     n_bands = len(band_lst)\n",
    "else:\n",
    "    img = sat_data.read()"
   ]
  },
  {
   "cell_type": "code",
   "execution_count": 23,
   "metadata": {},
   "outputs": [
    {
     "data": {
      "text/plain": [
       "(12, 1255, 635)"
      ]
     },
     "execution_count": 23,
     "metadata": {},
     "output_type": "execute_result"
    }
   ],
   "source": [
    "img.shape"
   ]
  },
  {
   "cell_type": "code",
   "execution_count": 24,
   "metadata": {},
   "outputs": [
    {
     "data": {
      "text/plain": [
       "12"
      ]
     },
     "execution_count": 24,
     "metadata": {},
     "output_type": "execute_result"
    }
   ],
   "source": [
    "n_bands"
   ]
  },
  {
   "cell_type": "code",
   "execution_count": null,
   "metadata": {},
   "outputs": [],
   "source": []
  },
  {
   "cell_type": "code",
   "execution_count": 10,
   "metadata": {},
   "outputs": [
    {
     "data": {
      "text/plain": [
       "796925"
      ]
     },
     "execution_count": 10,
     "metadata": {},
     "output_type": "execute_result"
    }
   ],
   "source": [
    "n_pixel = height*width\n",
    "\n",
    "n_pixel"
   ]
  },
  {
   "cell_type": "code",
   "execution_count": 11,
   "metadata": {},
   "outputs": [
    {
     "data": {
      "text/plain": [
       "(796925, 12)"
      ]
     },
     "execution_count": 11,
     "metadata": {},
     "output_type": "execute_result"
    }
   ],
   "source": [
    "# Goal: We want to convert (n_bands, height,width) = (12, 1255, 635) into an array that is (n_pixel, n_bands) = (796925, 12)\n",
    "flattened_img = img.reshape(n_bands, -1)\n",
    "flattened_img = flattened_img.T \n",
    "flattened_img.shape"
   ]
  },
  {
   "cell_type": "code",
   "execution_count": 12,
   "metadata": {},
   "outputs": [
    {
     "data": {
      "text/plain": [
       "array([[  nan,   nan,   nan, ...,   nan,   nan,   nan],\n",
       "       [  nan,   nan,   nan, ...,   nan,   nan,   nan],\n",
       "       [  nan,   nan,   nan, ...,   nan,   nan,   nan],\n",
       "       ...,\n",
       "       [143.5, 236.5, 693. , ..., 130. , 322. ,   0. ],\n",
       "       [143.5, 236.5, 693. , ..., 130. , 322. ,   0. ],\n",
       "       [167.5, 284. , 793.5, ..., 160. , 322. ,   0. ]])"
      ]
     },
     "execution_count": 12,
     "metadata": {},
     "output_type": "execute_result"
    }
   ],
   "source": [
    "flattened_img"
   ]
  },
  {
   "cell_type": "markdown",
   "metadata": {},
   "source": [
    "### Standardizing the Data\n",
    "We need to remove the null data from the image and then standardize the data so we can use the non-nulls for the PCA."
   ]
  },
  {
   "cell_type": "code",
   "execution_count": 13,
   "metadata": {},
   "outputs": [],
   "source": [
    "# Separte the null and not null arrays\n",
    "notnull_array = flattened_img[~np.isnan(flattened_img).all(axis=1)]"
   ]
  },
  {
   "cell_type": "code",
   "execution_count": 14,
   "metadata": {},
   "outputs": [
    {
     "data": {
      "text/plain": [
       "array([[0., 0., 0., ..., 0., 0., 0.],\n",
       "       [0., 0., 0., ..., 0., 0., 0.],\n",
       "       [0., 0., 0., ..., 0., 0., 0.],\n",
       "       ...,\n",
       "       [0., 0., 0., ..., 0., 0., 0.],\n",
       "       [0., 0., 0., ..., 0., 0., 0.],\n",
       "       [0., 0., 0., ..., 0., 0., 0.]])"
      ]
     },
     "execution_count": 14,
     "metadata": {},
     "output_type": "execute_result"
    }
   ],
   "source": [
    "# Create an empty array for the results\n",
    "PCA_results = np.empty(flattened_img.shape)\n",
    "\n",
    "PCA_results"
   ]
  },
  {
   "cell_type": "code",
   "execution_count": 15,
   "metadata": {},
   "outputs": [
    {
     "data": {
      "text/plain": [
       "(796290, 12)"
      ]
     },
     "execution_count": 15,
     "metadata": {},
     "output_type": "execute_result"
    }
   ],
   "source": [
    "# First we standardize the not null data for the PCA \n",
    "std_array = scale(notnull_array, axis=0)\n",
    "\n",
    "std_array.shape"
   ]
  },
  {
   "cell_type": "code",
   "execution_count": 16,
   "metadata": {},
   "outputs": [
    {
     "data": {
      "text/plain": [
       "635"
      ]
     },
     "execution_count": 16,
     "metadata": {},
     "output_type": "execute_result"
    }
   ],
   "source": [
    "# Let's find out how many rows of NaNs we dropped\n",
    "flattened_img.shape[0] - std_array.shape[0]"
   ]
  },
  {
   "cell_type": "markdown",
   "metadata": {},
   "source": [
    "### Principal Component Analysis"
   ]
  },
  {
   "cell_type": "code",
   "execution_count": 17,
   "metadata": {},
   "outputs": [],
   "source": [
    "# Principal Component Analysis for the standardized_img\n",
    "sklearn_pca = sklearnPCA(n_components=n_bands)\n",
    "result = sklearn_pca.fit_transform(std_array)"
   ]
  },
  {
   "cell_type": "code",
   "execution_count": 18,
   "metadata": {},
   "outputs": [
    {
     "data": {
      "text/plain": [
       "(796290, 12)"
      ]
     },
     "execution_count": 18,
     "metadata": {},
     "output_type": "execute_result"
    }
   ],
   "source": [
    "# Shape of results\n",
    "result.shape"
   ]
  },
  {
   "cell_type": "markdown",
   "metadata": {},
   "source": [
    "## Creating the New Image Array\n",
    "\n",
    "We need to replace the correct rows of PCA_results with the NaNs and with the appropriate PCA results."
   ]
  },
  {
   "cell_type": "code",
   "execution_count": 19,
   "metadata": {},
   "outputs": [
    {
     "data": {
      "text/plain": [
       "array([[nan, nan, nan, ..., nan, nan, nan],\n",
       "       [nan, nan, nan, ..., nan, nan, nan],\n",
       "       [nan, nan, nan, ..., nan, nan, nan],\n",
       "       ...,\n",
       "       [ 0.,  0.,  0., ...,  0.,  0.,  0.],\n",
       "       [ 0.,  0.,  0., ...,  0.,  0.,  0.],\n",
       "       [ 0.,  0.,  0., ...,  0.,  0.,  0.]])"
      ]
     },
     "execution_count": 19,
     "metadata": {},
     "output_type": "execute_result"
    }
   ],
   "source": [
    "# Get the indices of the nulls \n",
    "null_idx = np.isnan(flattened_img).any(axis=1)\n",
    "\n",
    "# Give PCA results the same nulls as flattened_img (same rows based on index)\n",
    "PCA_results[null_idx] = flattened_img[null_idx]\n",
    "\n",
    "PCA_results"
   ]
  },
  {
   "cell_type": "code",
   "execution_count": 20,
   "metadata": {},
   "outputs": [
    {
     "data": {
      "text/plain": [
       "array([[0., 0., 0., ..., 0., 0., 0.],\n",
       "       [0., 0., 0., ..., 0., 0., 0.],\n",
       "       [0., 0., 0., ..., 0., 0., 0.],\n",
       "       ...,\n",
       "       [0., 0., 0., ..., 0., 0., 0.],\n",
       "       [0., 0., 0., ..., 0., 0., 0.],\n",
       "       [0., 0., 0., ..., 0., 0., 0.]])"
      ]
     },
     "execution_count": 20,
     "metadata": {},
     "output_type": "execute_result"
    }
   ],
   "source": [
    "# Get the row index for all not nulls\n",
    "notnull_idx = ~np.isnan(flattened_img).any(axis=1)\n",
    "\n",
    "PCA_results[notnull_idx]"
   ]
  },
  {
   "cell_type": "code",
   "execution_count": 21,
   "metadata": {},
   "outputs": [
    {
     "data": {
      "text/plain": [
       "((796290, 12), (796290, 12))"
      ]
     },
     "execution_count": 21,
     "metadata": {},
     "output_type": "execute_result"
    }
   ],
   "source": [
    "PCA_results[notnull_idx].shape, result[~np.isnan(result).any(axis=1)].shape"
   ]
  },
  {
   "cell_type": "markdown",
   "metadata": {},
   "source": [
    "We can see that the result and PCA_results have the same shape, so we need to change the array so the PCA_results is correct."
   ]
  },
  {
   "cell_type": "code",
   "execution_count": 22,
   "metadata": {},
   "outputs": [
    {
     "data": {
      "text/plain": [
       "array([[        nan,         nan,         nan, ...,         nan,\n",
       "                nan,         nan],\n",
       "       [        nan,         nan,         nan, ...,         nan,\n",
       "                nan,         nan],\n",
       "       [        nan,         nan,         nan, ...,         nan,\n",
       "                nan,         nan],\n",
       "       ...,\n",
       "       [-1.11915996,  1.12836753, -0.26457019, ..., -0.0530736 ,\n",
       "         0.01543224,  0.        ],\n",
       "       [-1.11915996,  1.12836753, -0.26457019, ..., -0.0530736 ,\n",
       "         0.01543224,  0.        ],\n",
       "       [-0.51470015,  1.64714683,  1.4621112 , ..., -0.03583775,\n",
       "        -0.00821718,  0.        ]])"
      ]
     },
     "execution_count": 22,
     "metadata": {},
     "output_type": "execute_result"
    }
   ],
   "source": [
    "# Change the PCA_results to include the not null pca component of the image\n",
    "PCA_results[notnull_idx] = result[~np.isnan(result).any(axis=1)]\n",
    "\n",
    "# Let's view our changed data now \n",
    "PCA_results"
   ]
  },
  {
   "cell_type": "markdown",
   "metadata": {},
   "source": [
    "### Reshaping Data back into Image\n",
    "\n",
    "We first need to convert this DataFrame back into an array, and then get it back into the shape of (n_bands, height, width) so that we can export it as an image with the same metadata as the original file.\n",
    "\n",
    "#### Resulting PCA Image Array"
   ]
  },
  {
   "cell_type": "code",
   "execution_count": 23,
   "metadata": {},
   "outputs": [
    {
     "data": {
      "text/plain": [
       "(796925, 12)"
      ]
     },
     "execution_count": 23,
     "metadata": {},
     "output_type": "execute_result"
    }
   ],
   "source": [
    "PCA_results.shape"
   ]
  },
  {
   "cell_type": "code",
   "execution_count": 24,
   "metadata": {},
   "outputs": [
    {
     "data": {
      "text/plain": [
       "(12, 796925)"
      ]
     },
     "execution_count": 24,
     "metadata": {},
     "output_type": "execute_result"
    }
   ],
   "source": [
    "# Transpose the data back since we originally had flattened_img be (12, 796925)\n",
    "PCA_results = PCA_results.T\n",
    "\n",
    "PCA_results.shape"
   ]
  },
  {
   "cell_type": "code",
   "execution_count": 25,
   "metadata": {},
   "outputs": [
    {
     "data": {
      "text/plain": [
       "(12, 1255, 635)"
      ]
     },
     "execution_count": 25,
     "metadata": {},
     "output_type": "execute_result"
    }
   ],
   "source": [
    "# We need to reshape this to be (n_bands, height, width)\n",
    "new_img = PCA_results.reshape(n_bands, height, width)\n",
    "\n",
    "new_img.shape"
   ]
  },
  {
   "cell_type": "code",
   "execution_count": 26,
   "metadata": {},
   "outputs": [
    {
     "data": {
      "text/plain": [
       "array([[[            nan,             nan,             nan, ...,\n",
       "                     nan,             nan,             nan],\n",
       "        [ 1.55981573e+00,  1.55981573e+00, -5.10354611e-01, ...,\n",
       "         -1.73492470e+00, -1.75189884e-01, -1.75189884e-01],\n",
       "        [ 1.55981573e+00,  1.55981573e+00, -5.10354611e-01, ...,\n",
       "         -1.69247913e+00, -2.20450097e-01, -2.20450097e-01],\n",
       "        ...,\n",
       "        [ 1.77722615e+00,  1.63097247e+00,  1.63097247e+00, ...,\n",
       "         -1.53239811e+00, -1.53239811e+00, -1.27035894e+00],\n",
       "        [ 1.77722615e+00,  1.63097247e+00,  1.63097247e+00, ...,\n",
       "         -1.53239811e+00, -1.53239811e+00, -1.27035894e+00],\n",
       "        [ 1.78990240e+00,  3.45441678e+00,  3.45441678e+00, ...,\n",
       "         -1.11915996e+00, -1.11915996e+00, -5.14700148e-01]],\n",
       "\n",
       "       [[            nan,             nan,             nan, ...,\n",
       "                     nan,             nan,             nan],\n",
       "        [-1.15308829e+00, -1.15308829e+00, -1.69287019e+00, ...,\n",
       "         -2.96035486e-01, -1.58171825e-01, -1.58171825e-01],\n",
       "        [-1.15308829e+00, -1.15308829e+00, -1.69287019e+00, ...,\n",
       "         -2.81976676e-01, -1.68200774e-01, -1.68200774e-01],\n",
       "        ...,\n",
       "        [-8.23474771e-01, -7.14932297e-01, -7.14932297e-01, ...,\n",
       "          8.09450746e-01,  8.09450746e-01,  8.42397459e-01],\n",
       "        [-8.23474771e-01, -7.14932297e-01, -7.14932297e-01, ...,\n",
       "          8.09450746e-01,  8.09450746e-01,  8.42397459e-01],\n",
       "        [-8.33721973e-01, -1.74601412e-01, -1.74601412e-01, ...,\n",
       "          1.12836753e+00,  1.12836753e+00,  1.64714683e+00]],\n",
       "\n",
       "       [[            nan,             nan,             nan, ...,\n",
       "                     nan,             nan,             nan],\n",
       "        [-5.20233901e-02, -5.20233900e-02,  8.43079619e-01, ...,\n",
       "         -1.36685743e-01, -1.32983385e+00, -1.32983385e+00],\n",
       "        [-5.20233901e-02, -5.20233901e-02,  8.43079619e-01, ...,\n",
       "          1.28899739e-01, -8.15833334e-01, -8.15833334e-01],\n",
       "        ...,\n",
       "        [-5.76297181e-01, -5.13315147e-01, -5.13315147e-01, ...,\n",
       "         -1.14976988e+00, -1.14976988e+00, -1.06358551e+00],\n",
       "        [-5.76297181e-01, -5.13315147e-01, -5.13315147e-01, ...,\n",
       "         -1.14976988e+00, -1.14976988e+00, -1.06358551e+00],\n",
       "        [-1.97568745e+00, -1.48134945e+00, -1.48134945e+00, ...,\n",
       "         -2.64570191e-01, -2.64570191e-01,  1.46211120e+00]],\n",
       "\n",
       "       ...,\n",
       "\n",
       "       [[            nan,             nan,             nan, ...,\n",
       "                     nan,             nan,             nan],\n",
       "        [ 1.08234354e-01,  1.08234354e-01, -7.90831915e-02, ...,\n",
       "          7.43358047e-02, -3.14300150e-02, -3.14300150e-02],\n",
       "        [ 1.08234354e-01,  1.08234354e-01, -7.90831915e-02, ...,\n",
       "          4.82636955e-02, -1.52637915e-03, -1.52637915e-03],\n",
       "        ...,\n",
       "        [ 2.33242674e-01,  2.68571310e-01,  2.68571310e-01, ...,\n",
       "         -9.15655528e-02, -9.15655528e-02, -1.06879219e-01],\n",
       "        [ 2.33242674e-01,  2.68571310e-01,  2.68571310e-01, ...,\n",
       "         -9.15655528e-02, -9.15655528e-02, -1.06879219e-01],\n",
       "        [ 1.01529226e-01,  1.77699543e-01,  1.77699543e-01, ...,\n",
       "         -5.30735984e-02, -5.30735984e-02, -3.58377528e-02]],\n",
       "\n",
       "       [[            nan,             nan,             nan, ...,\n",
       "                     nan,             nan,             nan],\n",
       "        [ 4.01396670e-02,  4.01396668e-02, -1.56431418e-01, ...,\n",
       "          7.99971162e-02,  6.48115041e-02,  6.48115041e-02],\n",
       "        [ 4.01396668e-02,  4.01396668e-02, -1.56431418e-01, ...,\n",
       "          3.03015196e-02, -4.47374709e-02, -4.47374709e-02],\n",
       "        ...,\n",
       "        [-5.62626234e-02, -1.22029447e-01, -1.22029447e-01, ...,\n",
       "          3.34344235e-02,  3.34344235e-02,  4.25890437e-02],\n",
       "        [-5.62626234e-02, -1.22029447e-01, -1.22029447e-01, ...,\n",
       "          3.34344235e-02,  3.34344235e-02,  4.25890437e-02],\n",
       "        [-7.37527434e-02, -1.21658471e-01, -1.21658471e-01, ...,\n",
       "          1.54322392e-02,  1.54322392e-02, -8.21717505e-03]],\n",
       "\n",
       "       [[            nan,             nan,             nan, ...,\n",
       "                     nan,             nan,             nan],\n",
       "        [-0.00000000e+00, -0.00000000e+00,  0.00000000e+00, ...,\n",
       "         -0.00000000e+00, -0.00000000e+00, -0.00000000e+00],\n",
       "        [-0.00000000e+00, -0.00000000e+00, -0.00000000e+00, ...,\n",
       "         -0.00000000e+00, -0.00000000e+00, -0.00000000e+00],\n",
       "        ...,\n",
       "        [ 0.00000000e+00,  0.00000000e+00,  0.00000000e+00, ...,\n",
       "          0.00000000e+00,  0.00000000e+00,  0.00000000e+00],\n",
       "        [ 0.00000000e+00,  0.00000000e+00,  0.00000000e+00, ...,\n",
       "          0.00000000e+00,  0.00000000e+00,  0.00000000e+00],\n",
       "        [ 0.00000000e+00,  0.00000000e+00,  0.00000000e+00, ...,\n",
       "          0.00000000e+00,  0.00000000e+00,  0.00000000e+00]]])"
      ]
     },
     "execution_count": 26,
     "metadata": {},
     "output_type": "execute_result"
    }
   ],
   "source": [
    "# Let's take a look at our new image data\n",
    "new_img"
   ]
  },
  {
   "cell_type": "code",
   "execution_count": 27,
   "metadata": {},
   "outputs": [],
   "source": [
    "# Make a copy of the source dictionary \n",
    "dst_meta = src_meta.copy()\n",
    "\n",
    "# Open a new file in 'write' mode and unpack (**) the destination metadata\n",
    "dst_fp = r\"C:\\Users\\RQ\\Documents\\PCA\\GC_Landsat8_Output.tif\"\n",
    "with rio.open(dst_fp, 'w', **dst_meta) as dst:\n",
    "    dst.write(new_img)"
   ]
  },
  {
   "cell_type": "markdown",
   "metadata": {},
   "source": [
    "This next section is just the mathematical steps done individually to understand how Principal Component Analysis works!\n",
    "\n",
    "# Mathematical Steps Behind PCA"
   ]
  },
  {
   "cell_type": "markdown",
   "metadata": {},
   "source": [
    "## 1) Eigendecomposition\n",
    "### Computing Eigenvectors and Eigenvalues\n",
    "We willl begin by calculating the eigenvectors (principal components) to determine the direction of the new feature space and the eigenvalues to determine their magnitude.\n",
    "\n",
    "### Covariance Matrix\n",
    "Classic approach to perform the eigendecomposition on the covariance matrix (dxd matrix where each element is the covariance between two features)."
   ]
  },
  {
   "cell_type": "code",
   "execution_count": 29,
   "metadata": {},
   "outputs": [
    {
     "name": "stdout",
     "output_type": "stream",
     "text": [
      "Covariance matrix \n",
      "[[ 1.00000126  0.96389843  0.84098934  0.857109   -0.07672584  0.68493906\n",
      "   0.79172728  0.42243999  0.34386798  0.10049293  0.03269933  0.        ]\n",
      " [ 0.96389843  1.00000126  0.92090487  0.93293626 -0.11077775  0.74554755\n",
      "   0.86929467  0.46377328  0.37324319  0.2033055   0.03231332  0.        ]\n",
      " [ 0.84098934  0.92090487  1.00000126  0.95288191  0.01710439  0.84159462\n",
      "   0.90518254  0.46506024  0.36422715  0.26377601  0.02288368  0.        ]\n",
      " [ 0.857109    0.93293626  0.95288191  1.00000126 -0.1686747   0.80179966\n",
      "   0.91092935  0.49055129  0.39730182  0.24612058  0.01903937  0.        ]\n",
      " [-0.07672584 -0.11077775  0.01710439 -0.1686747   1.00000126  0.2361911\n",
      "  -0.03044682 -0.06555473 -0.06178892 -0.12807403 -0.01273185  0.        ]\n",
      " [ 0.68493906  0.74554755  0.84159462  0.80179966  0.2361911   1.00000126\n",
      "   0.92681582  0.50918554  0.4160753   0.13640404  0.00363407  0.        ]\n",
      " [ 0.79172728  0.86929467  0.90518254  0.91092935 -0.03044682  0.92681582\n",
      "   1.00000126  0.55483878  0.45315999  0.23870965  0.01128637  0.        ]\n",
      " [ 0.42243999  0.46377328  0.46506024  0.49055129 -0.06555473  0.50918554\n",
      "   0.55483878  1.00000126  0.95077687  0.01519546 -0.00820176  0.        ]\n",
      " [ 0.34386798  0.37324319  0.36422715  0.39730182 -0.06178892  0.4160753\n",
      "   0.45315999  0.95077687  1.00000126 -0.03096571 -0.00944787  0.        ]\n",
      " [ 0.10049293  0.2033055   0.26377601  0.24612058 -0.12807403  0.13640404\n",
      "   0.23870965  0.01519546 -0.03096571  1.00000126  0.00585917  0.        ]\n",
      " [ 0.03269933  0.03231332  0.02288368  0.01903937 -0.01273185  0.00363407\n",
      "   0.01128637 -0.00820176 -0.00944787  0.00585917  1.00000126  0.        ]\n",
      " [ 0.          0.          0.          0.          0.          0.\n",
      "   0.          0.          0.          0.          0.          0.        ]]\n"
     ]
    }
   ],
   "source": [
    "cov_mat = np.cov(std_array.T)\n",
    "\n",
    "print('Covariance matrix \\n%s' %cov_mat)"
   ]
  },
  {
   "cell_type": "code",
   "execution_count": 30,
   "metadata": {},
   "outputs": [
    {
     "name": "stdout",
     "output_type": "stream",
     "text": [
      "Eigenvalues \n",
      "[5.95161719 1.45994458 1.17749041 0.9998787  0.86347025 0.32016425\n",
      " 0.11641017 0.01270501 0.04303238 0.02867525 0.02662563 0.        ]\n",
      "\n",
      "Eigenvectors \n",
      "[[-3.62138710e-01 -1.42443825e-01 -7.96804368e-03 -3.77633055e-02\n",
      "   2.77526150e-01 -5.46150335e-01 -4.30310979e-01 -4.63650547e-01\n",
      "  -3.73689347e-02 -2.57395098e-01  6.31407880e-02  0.00000000e+00]\n",
      " [-3.85940997e-01 -1.60575273e-01  3.84856588e-02 -1.73122241e-02\n",
      "   1.73628137e-01 -3.42113288e-01 -7.08406689e-02  7.73823695e-01\n",
      "   5.54407948e-02  2.63428024e-01  2.55349665e-03  0.00000000e+00]\n",
      " [-3.88151689e-01 -1.69906249e-01 -6.84679828e-02  9.04650367e-03\n",
      "   1.57361207e-03  1.22023860e-02  6.16919362e-01 -2.02067678e-01\n",
      "   1.07964341e-01  8.39856696e-02  6.12713896e-01  0.00000000e+00]\n",
      " [-3.90697379e-01 -1.45749521e-01  8.31924875e-02  1.01872860e-02\n",
      "   9.97117165e-02  9.42236194e-02  4.58630822e-01 -6.23076883e-02\n",
      "  -1.81960767e-01 -2.64685325e-01 -6.94891953e-01  0.00000000e+00]\n",
      " [ 2.03183134e-02  2.89244541e-02 -8.54193195e-01 -1.05194332e-02\n",
      "  -3.48024634e-01 -3.07281081e-01  9.50264636e-02 -2.37341074e-02\n",
      "   3.42043337e-03  9.81696214e-02 -1.84956075e-01  0.00000000e+00]\n",
      " [-3.59279098e-01 -2.90371561e-02 -3.05480130e-01  1.34172729e-02\n",
      "  -1.05310926e-01  5.25288991e-01 -3.25904914e-01  2.39156607e-01\n",
      "  -1.18341191e-01 -5.14332503e-01  2.18187690e-01  0.00000000e+00]\n",
      " [-3.91507619e-01 -6.89951486e-02 -4.87269539e-02  1.95544020e-02\n",
      "  -3.47802655e-02  3.96224646e-01 -3.03871685e-01 -2.89256868e-01\n",
      "   7.61447416e-02  6.83933071e-01 -1.77288247e-01  0.00000000e+00]\n",
      " [-2.67963852e-01  5.89192081e-01  1.16226943e-01 -7.90602400e-03\n",
      "  -1.74303676e-01 -6.17334554e-02  1.34142889e-02 -2.81619319e-04\n",
      "   7.04456793e-01 -1.59008127e-01 -1.07522496e-01  0.00000000e+00]\n",
      " [-2.31274044e-01  6.47851002e-01  1.24923318e-01 -1.47615589e-02\n",
      "  -1.70559129e-01 -1.31824347e-01  3.49039914e-02 -9.66597804e-04\n",
      "  -6.58836673e-01  1.27851447e-01  1.13483941e-01  0.00000000e+00]\n",
      " [-9.19754250e-02 -3.55011273e-01  3.59303737e-01  1.54711060e-01\n",
      "  -8.19514579e-01 -1.63038986e-01 -9.95082549e-02 -8.83303540e-03\n",
      "  -2.49858759e-02 -6.05843174e-02 -3.50780925e-03  0.00000000e+00]\n",
      " [-8.63815045e-03 -6.69547392e-02  5.73964819e-02 -9.86508805e-01\n",
      "  -1.35609979e-01  2.31683943e-02  4.04267780e-04 -1.92416303e-03\n",
      "  -2.73727942e-04 -1.35836431e-03 -3.97992016e-03  0.00000000e+00]\n",
      " [ 0.00000000e+00  0.00000000e+00  0.00000000e+00  0.00000000e+00\n",
      "   0.00000000e+00  0.00000000e+00  0.00000000e+00  0.00000000e+00\n",
      "   0.00000000e+00  0.00000000e+00  0.00000000e+00  1.00000000e+00]]\n"
     ]
    }
   ],
   "source": [
    "# Eigen decomposition of covariance matrix\n",
    "eig_vals, eig_vecs = np.linalg.eig(cov_mat)\n",
    "\n",
    "# View the eigenvalues and eigenvectors\n",
    "print('Eigenvalues \\n%s' %eig_vals)\n",
    "print('\\nEigenvectors \\n%s' %eig_vecs)"
   ]
  },
  {
   "cell_type": "markdown",
   "metadata": {},
   "source": [
    "## 2) Selecting Principal Components"
   ]
  },
  {
   "cell_type": "code",
   "execution_count": 33,
   "metadata": {},
   "outputs": [
    {
     "name": "stdout",
     "output_type": "stream",
     "text": [
      "Eigenvalues in descending order:\n",
      "5.951617194902354\n",
      "1.4599445813710743\n",
      "1.1774904060045845\n",
      "0.9998786991746794\n",
      "0.8634702455868085\n",
      "0.3201642506753802\n",
      "0.1164101693988662\n",
      "0.04303237724301667\n",
      "0.028675250402921255\n",
      "0.02662563001676745\n",
      "0.012705009311571258\n",
      "0.0\n"
     ]
    }
   ],
   "source": [
    "# We make a list of (eigenvalue, eigenvector) tuples or in other words a list of eigenpairs\n",
    "eig_pairs = [(np.abs(eig_vals[i]), eig_vecs[:,i]) for i in range(len(eig_vals))]\n",
    "\n",
    "# Sort the eigenpairs from high to low \n",
    "eig_pairs.sort(key = operator.itemgetter(0), reverse=True)\n",
    "\n",
    "print('Eigenvalues in descending order:')\n",
    "for i in eig_pairs:\n",
    "    print(i[0])\n"
   ]
  },
  {
   "cell_type": "code",
   "execution_count": 34,
   "metadata": {},
   "outputs": [
    {
     "data": {
      "text/plain": [
       "[5.951617194902354,\n",
       " 1.4599445813710743,\n",
       " 1.1774904060045845,\n",
       " 0.9998786991746794,\n",
       " 0.8634702455868085,\n",
       " 0.3201642506753802,\n",
       " 0.1164101693988662,\n",
       " 0.04303237724301667,\n",
       " 0.028675250402921255,\n",
       " 0.02662563001676745,\n",
       " 0.012705009311571258,\n",
       " 0.0]"
      ]
     },
     "execution_count": 34,
     "metadata": {},
     "output_type": "execute_result"
    }
   ],
   "source": [
    "lst = []\n",
    "for i in eig_pairs:\n",
    "    lst.append(i[0])\n",
    "\n",
    "lst"
   ]
  },
  {
   "cell_type": "code",
   "execution_count": 35,
   "metadata": {},
   "outputs": [
    {
     "name": "stdout",
     "output_type": "stream",
     "text": [
      "Matrix W:\n",
      " [5.95161719 1.45994458 1.17749041 0.9998787  0.86347025 0.32016425\n",
      " 0.11641017 0.04303238 0.02867525 0.02662563 0.01270501 0.        ]\n"
     ]
    }
   ],
   "source": [
    "# Take all 12 eigevectors with the highest eigenvalues to construct our matrix W\n",
    "matrix_w = np.hstack(lst)\n",
    "\n",
    "print('Matrix W:\\n', matrix_w)"
   ]
  },
  {
   "cell_type": "code",
   "execution_count": 36,
   "metadata": {},
   "outputs": [
    {
     "data": {
      "text/plain": [
       "(12,)"
      ]
     },
     "execution_count": 36,
     "metadata": {},
     "output_type": "execute_result"
    }
   ],
   "source": [
    "matrix_w.shape"
   ]
  },
  {
   "cell_type": "markdown",
   "metadata": {},
   "source": [
    "## 3) Projection Onto the New Feature Space\n",
    "We use the 635 x 2-dimensional projection matrix W to transform our samples onto the newsubspace via Y = X x W"
   ]
  },
  {
   "cell_type": "code",
   "execution_count": 38,
   "metadata": {},
   "outputs": [
    {
     "data": {
      "text/plain": [
       "array([ 6.01395204,  6.01395204, -3.17147738, ..., -6.74303572,\n",
       "       -6.74303572, -4.5014112 ])"
      ]
     },
     "execution_count": 38,
     "metadata": {},
     "output_type": "execute_result"
    }
   ],
   "source": [
    "Y = std_arrayP.dot(matrix_w)\n",
    "\n",
    "Y"
   ]
  }
 ],
 "metadata": {
  "kernelspec": {
   "display_name": "Python [conda env:pca] *",
   "language": "python",
   "name": "conda-env-pca-py"
  },
  "language_info": {
   "codemirror_mode": {
    "name": "ipython",
    "version": 3
   },
   "file_extension": ".py",
   "mimetype": "text/x-python",
   "name": "python",
   "nbconvert_exporter": "python",
   "pygments_lexer": "ipython3",
   "version": "3.7.5"
  }
 },
 "nbformat": 4,
 "nbformat_minor": 2
}
