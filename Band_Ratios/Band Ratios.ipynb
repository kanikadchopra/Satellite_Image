{
 "cells": [
  {
   "cell_type": "code",
   "execution_count": 19,
   "metadata": {},
   "outputs": [],
   "source": [
    "# Import required libraries\n",
    "import rasterio as rio\n",
    "import numpy as np\n",
    "\n",
    "import os\n",
    "import re"
   ]
  },
  {
   "cell_type": "markdown",
   "metadata": {},
   "source": [
    "### Importing the Image\n",
    "We begin by importing the image using rasterio."
   ]
  },
  {
   "cell_type": "code",
   "execution_count": 2,
   "metadata": {},
   "outputs": [],
   "source": [
    "image_file = r\"C:\\Users\\RQ\\Documents\\PCA\\GC_Landsat8_SR.tif\"\n",
    "sat_data = rio.open(image_file)"
   ]
  },
  {
   "cell_type": "markdown",
   "metadata": {},
   "source": [
    "### Bands\n",
    "Let's check how many bands our image has."
   ]
  },
  {
   "cell_type": "code",
   "execution_count": 3,
   "metadata": {},
   "outputs": [
    {
     "name": "stdout",
     "output_type": "stream",
     "text": [
      "Bands: 12\n",
      "(1, 2, 3, 4, 5, 6, 7, 8, 9, 10, 11, 12)\n"
     ]
    }
   ],
   "source": [
    "print('Bands: {}'.format(sat_data.count))\n",
    "\n",
    "# Sequence of band indexes\n",
    "print(sat_data.indexes)"
   ]
  },
  {
   "cell_type": "markdown",
   "metadata": {},
   "source": [
    "As we can see, our bands are not 0-indexed and we have 12 bands to work with."
   ]
  },
  {
   "cell_type": "markdown",
   "metadata": {},
   "source": [
    "### Data Preprocessing"
   ]
  },
  {
   "cell_type": "code",
   "execution_count": 4,
   "metadata": {},
   "outputs": [
    {
     "data": {
      "text/plain": [
       "{'driver': 'GTiff',\n",
       " 'dtype': 'float64',\n",
       " 'nodata': None,\n",
       " 'width': 635,\n",
       " 'height': 1255,\n",
       " 'count': 12,\n",
       " 'crs': CRS.from_dict(init='epsg:4326'),\n",
       " 'transform': Affine(0.00013474729261792824, 0.0, -74.7413587747272,\n",
       "        0.0, -0.00013474729261792824, 7.166669505177131)}"
      ]
     },
     "execution_count": 4,
     "metadata": {},
     "output_type": "execute_result"
    }
   ],
   "source": [
    "src_meta = sat_data.meta\n",
    "\n",
    "src_meta"
   ]
  },
  {
   "cell_type": "code",
   "execution_count": 5,
   "metadata": {},
   "outputs": [
    {
     "data": {
      "text/plain": [
       "(12, 1255, 635)"
      ]
     },
     "execution_count": 5,
     "metadata": {},
     "output_type": "execute_result"
    }
   ],
   "source": [
    "n_bands = src_meta['count']\n",
    "height = src_meta['height']\n",
    "width = src_meta['width']\n",
    "\n",
    "n_bands, height, width"
   ]
  },
  {
   "cell_type": "code",
   "execution_count": 6,
   "metadata": {},
   "outputs": [
    {
     "data": {
      "text/plain": [
       "array([[[  nan,   nan,   nan, ...,   nan,   nan,   nan],\n",
       "        [310. , 310. , 235. , ..., 229. , 274.5, 274.5],\n",
       "        [310. , 310. , 235. , ..., 243. , 285. , 285. ],\n",
       "        ...,\n",
       "        [230. , 237. , 237. , ..., 148. , 148. , 153.5],\n",
       "        [230. , 237. , 237. , ..., 148. , 148. , 153.5],\n",
       "        [230. , 306. , 306. , ..., 143.5, 143.5, 167.5]],\n",
       "\n",
       "       [[  nan,   nan,   nan, ...,   nan,   nan,   nan],\n",
       "        [360. , 360. , 245. , ..., 255.5, 298. , 298. ],\n",
       "        [360. , 360. , 245. , ..., 264. , 296. , 296. ],\n",
       "        ...,\n",
       "        [314. , 308. , 308. , ..., 215.5, 215.5, 232.5],\n",
       "        [314. , 308. , 308. , ..., 215.5, 215.5, 232.5],\n",
       "        [310. , 396. , 396. , ..., 236.5, 236.5, 284. ]],\n",
       "\n",
       "       [[  nan,   nan,   nan, ...,   nan,   nan,   nan],\n",
       "        [652. , 652. , 526. , ..., 457. , 558.5, 558.5],\n",
       "        [652. , 652. , 526. , ..., 467.5, 553. , 553. ],\n",
       "        ...,\n",
       "        [712. , 706.5, 706.5, ..., 595. , 595. , 628.5],\n",
       "        [712. , 706.5, 706.5, ..., 595. , 595. , 628.5],\n",
       "        [760.5, 874. , 874. , ..., 693. , 693. , 793.5]],\n",
       "\n",
       "       ...,\n",
       "\n",
       "       [[  nan,   nan,   nan, ...,   nan,   nan,   nan],\n",
       "        [ 96. ,  96. ,  96. , ...,  96. ,  96. ,  96. ],\n",
       "        [ 96. ,  96. ,  96. , ...,  96. ,  96. ,  96. ],\n",
       "        ...,\n",
       "        [ 96. ,  96. ,  96. , ...,  98. ,  98. ,  98. ],\n",
       "        [ 96. ,  96. ,  96. , ...,  98. ,  98. ,  98. ],\n",
       "        [ 96. ,  96. ,  96. , ..., 130. , 130. , 160. ]],\n",
       "\n",
       "       [[  nan,   nan,   nan, ...,   nan,   nan,   nan],\n",
       "        [322. , 322. , 322. , ..., 322. , 322. , 322. ],\n",
       "        [322. , 322. , 322. , ..., 322. , 322. , 322. ],\n",
       "        ...,\n",
       "        [322. , 322. , 322. , ..., 322. , 322. , 322. ],\n",
       "        [322. , 322. , 322. , ..., 322. , 322. , 322. ],\n",
       "        [322. , 322. , 322. , ..., 322. , 322. , 322. ]],\n",
       "\n",
       "       [[  nan,   nan,   nan, ...,   nan,   nan,   nan],\n",
       "        [  0. ,   0. ,   0. , ...,   0. ,   0. ,   0. ],\n",
       "        [  0. ,   0. ,   0. , ...,   0. ,   0. ,   0. ],\n",
       "        ...,\n",
       "        [  0. ,   0. ,   0. , ...,   0. ,   0. ,   0. ],\n",
       "        [  0. ,   0. ,   0. , ...,   0. ,   0. ,   0. ],\n",
       "        [  0. ,   0. ,   0. , ...,   0. ,   0. ,   0. ]]])"
      ]
     },
     "execution_count": 6,
     "metadata": {},
     "output_type": "execute_result"
    }
   ],
   "source": [
    "# Read the image with all bands\n",
    "img = sat_data.read()\n",
    "\n",
    "img"
   ]
  },
  {
   "cell_type": "code",
   "execution_count": 7,
   "metadata": {},
   "outputs": [
    {
     "data": {
      "text/plain": [
       "(12, 1255, 635)"
      ]
     },
     "execution_count": 7,
     "metadata": {},
     "output_type": "execute_result"
    }
   ],
   "source": [
    "# shape of our image\n",
    "img.shape"
   ]
  },
  {
   "cell_type": "code",
   "execution_count": 8,
   "metadata": {},
   "outputs": [
    {
     "data": {
      "text/plain": [
       "(1255, 635)"
      ]
     },
     "execution_count": 8,
     "metadata": {},
     "output_type": "execute_result"
    }
   ],
   "source": [
    "# Access just the second band \n",
    "b2 = sat_data.read(2)\n",
    "\n",
    "b2.shape"
   ]
  },
  {
   "cell_type": "code",
   "execution_count": 9,
   "metadata": {},
   "outputs": [
    {
     "data": {
      "text/plain": [
       "(1255, 635)"
      ]
     },
     "execution_count": 9,
     "metadata": {},
     "output_type": "execute_result"
    }
   ],
   "source": [
    "# Let's access the third band too \n",
    "b3 = sat_data.read(3)\n",
    "\n",
    "b3.shape"
   ]
  },
  {
   "cell_type": "markdown",
   "metadata": {},
   "source": [
    "### Transforming Image with Ratio\n",
    "We want to try using the equation \"(b3-b2)/(b3+2)\" as our first example of the equation"
   ]
  },
  {
   "cell_type": "code",
   "execution_count": 10,
   "metadata": {},
   "outputs": [],
   "source": [
    "equation = '(b3-b2)/(b3+b2)'"
   ]
  },
  {
   "cell_type": "code",
   "execution_count": 11,
   "metadata": {},
   "outputs": [
    {
     "data": {
      "text/plain": [
       "(1255, 635)"
      ]
     },
     "execution_count": 11,
     "metadata": {},
     "output_type": "execute_result"
    }
   ],
   "source": [
    "# Our result of using this equation with our predefined band 2 and 3 \n",
    "result = eval(equation)\n",
    "\n",
    "result.shape"
   ]
  },
  {
   "cell_type": "code",
   "execution_count": 12,
   "metadata": {},
   "outputs": [
    {
     "data": {
      "text/plain": [
       "array([[       nan,        nan,        nan, ...,        nan,        nan,\n",
       "               nan],\n",
       "       [0.28853755, 0.28853755, 0.36446174, ..., 0.28280702, 0.30414478,\n",
       "        0.30414478],\n",
       "       [0.28853755, 0.28853755, 0.36446174, ..., 0.27819549, 0.30270907,\n",
       "        0.30270907],\n",
       "       ...,\n",
       "       [0.38791423, 0.39280434, 0.39280434, ..., 0.46822949, 0.46822949,\n",
       "        0.45993031],\n",
       "       [0.38791423, 0.39280434, 0.39280434, ..., 0.46822949, 0.46822949,\n",
       "        0.45993031],\n",
       "       [0.42083139, 0.37637795, 0.37637795, ..., 0.49112426, 0.49112426,\n",
       "        0.47285383]])"
      ]
     },
     "execution_count": 12,
     "metadata": {},
     "output_type": "execute_result"
    }
   ],
   "source": [
    "result"
   ]
  },
  {
   "cell_type": "markdown",
   "metadata": {},
   "source": [
    "As we can see, result has the shape of a single-band image with our ratio in the equation.\n",
    "\n",
    "After we have our image transformed based on the image, we want to be able to reshape it to (1, height, width) and then export it."
   ]
  },
  {
   "cell_type": "code",
   "execution_count": 13,
   "metadata": {},
   "outputs": [
    {
     "data": {
      "text/plain": [
       "array([[[       nan,        nan,        nan, ...,        nan,\n",
       "                nan,        nan],\n",
       "        [0.28853755, 0.28853755, 0.36446174, ..., 0.28280702,\n",
       "         0.30414478, 0.30414478],\n",
       "        [0.28853755, 0.28853755, 0.36446174, ..., 0.27819549,\n",
       "         0.30270907, 0.30270907],\n",
       "        ...,\n",
       "        [0.38791423, 0.39280434, 0.39280434, ..., 0.46822949,\n",
       "         0.46822949, 0.45993031],\n",
       "        [0.38791423, 0.39280434, 0.39280434, ..., 0.46822949,\n",
       "         0.46822949, 0.45993031],\n",
       "        [0.42083139, 0.37637795, 0.37637795, ..., 0.49112426,\n",
       "         0.49112426, 0.47285383]]])"
      ]
     },
     "execution_count": 13,
     "metadata": {},
     "output_type": "execute_result"
    }
   ],
   "source": [
    "result = result.reshape(1, height, width)\n",
    "\n",
    "result"
   ]
  },
  {
   "cell_type": "code",
   "execution_count": 14,
   "metadata": {},
   "outputs": [
    {
     "data": {
      "text/plain": [
       "(1, 1255, 635)"
      ]
     },
     "execution_count": 14,
     "metadata": {},
     "output_type": "execute_result"
    }
   ],
   "source": [
    "# Let's confirm our shape\n",
    "result.shape"
   ]
  },
  {
   "cell_type": "markdown",
   "metadata": {},
   "source": [
    "### Export the Image\n",
    "Now that we have our transfomred image in the format that we want, let's export it back into the original filepath with a new name."
   ]
  },
  {
   "cell_type": "code",
   "execution_count": 15,
   "metadata": {},
   "outputs": [
    {
     "data": {
      "text/plain": [
       "{'driver': 'GTiff',\n",
       " 'dtype': 'float64',\n",
       " 'nodata': None,\n",
       " 'width': 635,\n",
       " 'height': 1255,\n",
       " 'count': 1,\n",
       " 'crs': CRS.from_dict(init='epsg:4326'),\n",
       " 'transform': Affine(0.00013474729261792824, 0.0, -74.7413587747272,\n",
       "        0.0, -0.00013474729261792824, 7.166669505177131)}"
      ]
     },
     "execution_count": 15,
     "metadata": {},
     "output_type": "execute_result"
    }
   ],
   "source": [
    "# Set the destination filepath\n",
    "dst_fp = r\"C:\\Users\\RQ\\Documents\\PCA\\GC_Landsat8_ratio.tif\"\n",
    "\n",
    "# Create metadata for the destination file\n",
    "dst_meta = src_meta.copy()\n",
    "\n",
    "dst_meta['count'] = 1 \n",
    "\n",
    "dst_meta"
   ]
  },
  {
   "cell_type": "code",
   "execution_count": 16,
   "metadata": {},
   "outputs": [],
   "source": [
    "# Open a new file in 'write' mode and unpack (**) the destination metadata\n",
    "with rio.open(dst_fp, 'w', **dst_meta) as dst:\n",
    "    dst.write(result)"
   ]
  },
  {
   "cell_type": "markdown",
   "metadata": {},
   "source": [
    "## Generalizing Function\n",
    "We want to be able to input a string that is an equation, read only the required bands from our inputted image and then perform the equation on the bands and export the new image."
   ]
  },
  {
   "cell_type": "code",
   "execution_count": 17,
   "metadata": {},
   "outputs": [
    {
     "data": {
      "text/plain": [
       "'(b3-b2)/(b3+b2)'"
      ]
     },
     "execution_count": 17,
     "metadata": {},
     "output_type": "execute_result"
    }
   ],
   "source": [
    "# Let's use the same equation\n",
    "equation"
   ]
  },
  {
   "cell_type": "code",
   "execution_count": 20,
   "metadata": {},
   "outputs": [
    {
     "data": {
      "text/plain": [
       "['b3', 'b2']"
      ]
     },
     "execution_count": 20,
     "metadata": {},
     "output_type": "execute_result"
    }
   ],
   "source": [
    "# Let's get all the bands in the equation\n",
    "band_labels = re.findall(\"[Bb]\"+str(list(sat_data.indexes)), equation)\n",
    "band_labels = list(dict.fromkeys(band_labels))\n",
    "\n",
    "band_labels"
   ]
  },
  {
   "cell_type": "code",
   "execution_count": 21,
   "metadata": {},
   "outputs": [
    {
     "data": {
      "text/plain": [
       "[1, 2, 3, 4, 5, 6, 7, 8, 9, 10, 11, 12]"
      ]
     },
     "execution_count": 21,
     "metadata": {},
     "output_type": "execute_result"
    }
   ],
   "source": [
    "list(sat_data.indexes)"
   ]
  },
  {
   "cell_type": "code",
   "execution_count": 22,
   "metadata": {},
   "outputs": [
    {
     "data": {
      "text/plain": [
       "{'B1': array([[  nan,   nan,   nan, ...,   nan,   nan,   nan],\n",
       "        [310. , 310. , 235. , ..., 229. , 274.5, 274.5],\n",
       "        [310. , 310. , 235. , ..., 243. , 285. , 285. ],\n",
       "        ...,\n",
       "        [230. , 237. , 237. , ..., 148. , 148. , 153.5],\n",
       "        [230. , 237. , 237. , ..., 148. , 148. , 153.5],\n",
       "        [230. , 306. , 306. , ..., 143.5, 143.5, 167.5]]),\n",
       " 'B2': array([[  nan,   nan,   nan, ...,   nan,   nan,   nan],\n",
       "        [360. , 360. , 245. , ..., 255.5, 298. , 298. ],\n",
       "        [360. , 360. , 245. , ..., 264. , 296. , 296. ],\n",
       "        ...,\n",
       "        [314. , 308. , 308. , ..., 215.5, 215.5, 232.5],\n",
       "        [314. , 308. , 308. , ..., 215.5, 215.5, 232.5],\n",
       "        [310. , 396. , 396. , ..., 236.5, 236.5, 284. ]]),\n",
       " 'B3': array([[  nan,   nan,   nan, ...,   nan,   nan,   nan],\n",
       "        [652. , 652. , 526. , ..., 457. , 558.5, 558.5],\n",
       "        [652. , 652. , 526. , ..., 467.5, 553. , 553. ],\n",
       "        ...,\n",
       "        [712. , 706.5, 706.5, ..., 595. , 595. , 628.5],\n",
       "        [712. , 706.5, 706.5, ..., 595. , 595. , 628.5],\n",
       "        [760.5, 874. , 874. , ..., 693. , 693. , 793.5]]),\n",
       " 'B4': array([[  nan,   nan,   nan, ...,   nan,   nan,   nan],\n",
       "        [580. , 580. , 359. , ..., 271.5, 361. , 361. ],\n",
       "        [580. , 580. , 359. , ..., 284. , 381.5, 381.5],\n",
       "        ...,\n",
       "        [664. , 671. , 671. , ..., 357. , 357. , 390. ],\n",
       "        [664. , 671. , 671. , ..., 357. , 357. , 390. ],\n",
       "        [605. , 831. , 831. , ..., 488. , 488. , 667.5]]),\n",
       " 'B5': array([[   nan,    nan,    nan, ...,    nan,    nan,    nan],\n",
       "        [3515. , 3515. , 3191. , ..., 3626. , 4057.5, 4057.5],\n",
       "        [3515. , 3515. , 3191. , ..., 3520.5, 3832.5, 3832.5],\n",
       "        ...,\n",
       "        [3631. , 3612.5, 3612.5, ..., 3886. , 3886. , 3848.5],\n",
       "        [3631. , 3612.5, 3612.5, ..., 3886. , 3886. , 3848.5],\n",
       "        [4334. , 3974.5, 3974.5, ..., 3704. , 3704. , 3085. ]]),\n",
       " 'B6': array([[   nan,    nan,    nan, ...,    nan,    nan,    nan],\n",
       "        [2187. , 2187. , 1699. , ..., 1557.5, 2156. , 2156. ],\n",
       "        [2187. , 2187. , 1699. , ..., 1468. , 2028. , 2028. ],\n",
       "        ...,\n",
       "        [2479.5, 2415.5, 2415.5, ..., 1986. , 1986. , 1975.5],\n",
       "        [2479.5, 2415.5, 2415.5, ..., 1986. , 1986. , 1975.5],\n",
       "        [2593. , 2833. , 2833. , ..., 1790. , 1790. , 1503. ]]),\n",
       " 'B7': array([[   nan,    nan,    nan, ...,    nan,    nan,    nan],\n",
       "        [ 999. ,  999. ,  724. , ...,  583.5,  838.5,  838.5],\n",
       "        [ 999. ,  999. ,  724. , ...,  560.5,  823. ,  823. ],\n",
       "        ...,\n",
       "        [1270.5, 1227.5, 1227.5, ...,  828. ,  828. ,  859.5],\n",
       "        [1270.5, 1227.5, 1227.5, ...,  828. ,  828. ,  859.5],\n",
       "        [1245.5, 1472. , 1472. , ...,  759.5,  759.5,  691. ]]),\n",
       " 'B8': array([[   nan,    nan,    nan, ...,    nan,    nan,    nan],\n",
       "        [2971. , 2971. , 2971. , ..., 2957. , 2958.5, 2958.5],\n",
       "        [2971. , 2971. , 2971. , ..., 2957. , 2958.5, 2958.5],\n",
       "        ...,\n",
       "        [2966.5, 2965.5, 2965.5, ..., 2946. , 2946. , 2946.5],\n",
       "        [2966.5, 2965.5, 2965.5, ..., 2946. , 2946. , 2946.5],\n",
       "        [2966. , 2965. , 2965. , ..., 2948. , 2948. , 2949. ]]),\n",
       " 'B9': array([[   nan,    nan,    nan, ...,    nan,    nan,    nan],\n",
       "        [2935. , 2935. , 2934. , ..., 2921.5, 2923.5, 2923.5],\n",
       "        [2935. , 2935. , 2934. , ..., 2922. , 2924. , 2924. ],\n",
       "        ...,\n",
       "        [2933.5, 2932.5, 2932.5, ..., 2915. , 2915. , 2915.5],\n",
       "        [2933.5, 2932.5, 2932.5, ..., 2915. , 2915. , 2915.5],\n",
       "        [2933.5, 2933. , 2933. , ..., 2916.5, 2916.5, 2917.5]]),\n",
       " 'B10': array([[ nan,  nan,  nan, ...,  nan,  nan,  nan],\n",
       "        [ 96.,  96.,  96., ...,  96.,  96.,  96.],\n",
       "        [ 96.,  96.,  96., ...,  96.,  96.,  96.],\n",
       "        ...,\n",
       "        [ 96.,  96.,  96., ...,  98.,  98.,  98.],\n",
       "        [ 96.,  96.,  96., ...,  98.,  98.,  98.],\n",
       "        [ 96.,  96.,  96., ..., 130., 130., 160.]]),\n",
       " 'B11': array([[ nan,  nan,  nan, ...,  nan,  nan,  nan],\n",
       "        [322., 322., 322., ..., 322., 322., 322.],\n",
       "        [322., 322., 322., ..., 322., 322., 322.],\n",
       "        ...,\n",
       "        [322., 322., 322., ..., 322., 322., 322.],\n",
       "        [322., 322., 322., ..., 322., 322., 322.],\n",
       "        [322., 322., 322., ..., 322., 322., 322.]]),\n",
       " 'B12': array([[nan, nan, nan, ..., nan, nan, nan],\n",
       "        [ 0.,  0.,  0., ...,  0.,  0.,  0.],\n",
       "        [ 0.,  0.,  0., ...,  0.,  0.,  0.],\n",
       "        ...,\n",
       "        [ 0.,  0.,  0., ...,  0.,  0.,  0.],\n",
       "        [ 0.,  0.,  0., ...,  0.,  0.,  0.],\n",
       "        [ 0.,  0.,  0., ...,  0.,  0.,  0.]])}"
      ]
     },
     "execution_count": 22,
     "metadata": {},
     "output_type": "execute_result"
    }
   ],
   "source": [
    "# Create a dictionary with all the bands\n",
    "bands = {'B%d'%(i+1): img[i] for i in list(range(img.shape[0]))}\n",
    "\n",
    "bands"
   ]
  },
  {
   "cell_type": "markdown",
   "metadata": {},
   "source": [
    "We have the bands that are mentioned in the equations and we now have a dictionary too with all of the bands as 'B1', 'B2', ... and we have the bands mentioned in the equation for extra information. "
   ]
  },
  {
   "cell_type": "markdown",
   "metadata": {},
   "source": [
    "Now we need to be able to access these bands and their values from the dictionary when evaluating our dictionary, so we unpack the dictionary as local variables to use with eval(equation)"
   ]
  },
  {
   "cell_type": "code",
   "execution_count": 23,
   "metadata": {},
   "outputs": [],
   "source": [
    "# Unpack the dictionary as local variables\n",
    "locals().update(bands)"
   ]
  },
  {
   "cell_type": "code",
   "execution_count": 24,
   "metadata": {},
   "outputs": [
    {
     "data": {
      "text/plain": [
       "array([[  nan,   nan,   nan, ...,   nan,   nan,   nan],\n",
       "       [310. , 310. , 235. , ..., 229. , 274.5, 274.5],\n",
       "       [310. , 310. , 235. , ..., 243. , 285. , 285. ],\n",
       "       ...,\n",
       "       [230. , 237. , 237. , ..., 148. , 148. , 153.5],\n",
       "       [230. , 237. , 237. , ..., 148. , 148. , 153.5],\n",
       "       [230. , 306. , 306. , ..., 143.5, 143.5, 167.5]])"
      ]
     },
     "execution_count": 24,
     "metadata": {},
     "output_type": "execute_result"
    }
   ],
   "source": [
    "# Test out our variables\n",
    "B1"
   ]
  },
  {
   "cell_type": "code",
   "execution_count": 25,
   "metadata": {},
   "outputs": [
    {
     "data": {
      "text/plain": [
       "(1255, 635)"
      ]
     },
     "execution_count": 25,
     "metadata": {},
     "output_type": "execute_result"
    }
   ],
   "source": [
    "# Call eval(equation)\n",
    "result = eval(equation)\n",
    "\n",
    "result.shape"
   ]
  },
  {
   "cell_type": "code",
   "execution_count": 26,
   "metadata": {},
   "outputs": [
    {
     "data": {
      "text/plain": [
       "(1, 1255, 635)"
      ]
     },
     "execution_count": 26,
     "metadata": {},
     "output_type": "execute_result"
    }
   ],
   "source": [
    "# Reshape image \n",
    "result = result.reshape(1, height, width)\n",
    "\n",
    "result.shape"
   ]
  },
  {
   "cell_type": "markdown",
   "metadata": {},
   "source": [
    "The next step would be to export the image, but in this case we have shown how to do that above so we won't follow through with that step.\n"
   ]
  },
  {
   "cell_type": "markdown",
   "metadata": {},
   "source": [
    "## Multi-Equation Transformation\n",
    "Now what if we wanted to try this with more than one equation and create a multi-band image. The following below will create a 3-band image with the equations: 'B6/B7', 'B6/B4', 'B4/B2' which shows a color composite for RGB."
   ]
  },
  {
   "cell_type": "code",
   "execution_count": 27,
   "metadata": {},
   "outputs": [],
   "source": [
    "# Let's create our equations in string form\n",
    "eqn1 = 'B6/B7'\n",
    "eqn2 = 'B6/B4'\n",
    "eqn3 = 'B4/B2'"
   ]
  },
  {
   "cell_type": "code",
   "execution_count": 72,
   "metadata": {},
   "outputs": [
    {
     "data": {
      "text/plain": [
       "((1255, 635), (1255, 635), (1255, 635))"
      ]
     },
     "execution_count": 72,
     "metadata": {},
     "output_type": "execute_result"
    }
   ],
   "source": [
    "# Create a resulting transformation for each equation\n",
    "result1 = eval(eqn1)\n",
    "result2 = eval(eqn2)\n",
    "result3 = eval(eqn3)\n",
    "\n",
    "results = [result1, result2, result3]\n",
    "\n",
    "result1.shape, result2.shape, result3.shape"
   ]
  },
  {
   "cell_type": "markdown",
   "metadata": {},
   "source": [
    "We need to append these all into a (len(equations), height, width) array."
   ]
  },
  {
   "cell_type": "code",
   "execution_count": 67,
   "metadata": {},
   "outputs": [
    {
     "data": {
      "text/plain": [
       "(3, 1255, 635)"
      ]
     },
     "execution_count": 67,
     "metadata": {},
     "output_type": "execute_result"
    }
   ],
   "source": [
    "# We'd get the num_eqns from the *args in the function, but in this case we set the variable to 3\n",
    "num_eqns = 3 \n",
    "\n",
    "# Create an array (num_eqns, height, width) with zeros\n",
    "transformed_array = np.zeros((num_eqns, height, width))\n",
    "\n",
    "transformed_array.shape"
   ]
  },
  {
   "cell_type": "code",
   "execution_count": 73,
   "metadata": {},
   "outputs": [
    {
     "data": {
      "text/plain": [
       "array([[[       nan,        nan,        nan, ...,        nan,\n",
       "                nan,        nan],\n",
       "        [2.18918919, 2.18918919, 2.34668508, ..., 2.66923736,\n",
       "         2.5712582 , 2.5712582 ],\n",
       "        [2.18918919, 2.18918919, 2.34668508, ..., 2.6190901 ,\n",
       "         2.46415553, 2.46415553],\n",
       "        ...,\n",
       "        [1.95159386, 1.96782077, 1.96782077, ..., 2.39855072,\n",
       "         2.39855072, 2.29842932],\n",
       "        [1.95159386, 1.96782077, 1.96782077, ..., 2.39855072,\n",
       "         2.39855072, 2.29842932],\n",
       "        [2.08189482, 1.92459239, 1.92459239, ..., 2.35681369,\n",
       "         2.35681369, 2.17510854]],\n",
       "\n",
       "       [[       nan,        nan,        nan, ...,        nan,\n",
       "                nan,        nan],\n",
       "        [3.77068966, 3.77068966, 4.73259053, ..., 5.73664825,\n",
       "         5.97229917, 5.97229917],\n",
       "        [3.77068966, 3.77068966, 4.73259053, ..., 5.16901408,\n",
       "         5.31585845, 5.31585845],\n",
       "        ...,\n",
       "        [3.73418675, 3.59985097, 3.59985097, ..., 5.56302521,\n",
       "         5.56302521, 5.06538462],\n",
       "        [3.73418675, 3.59985097, 3.59985097, ..., 5.56302521,\n",
       "         5.56302521, 5.06538462],\n",
       "        [4.28595041, 3.40914561, 3.40914561, ..., 3.66803279,\n",
       "         3.66803279, 2.25168539]],\n",
       "\n",
       "       [[       nan,        nan,        nan, ...,        nan,\n",
       "                nan,        nan],\n",
       "        [1.61111111, 1.61111111, 1.46530612, ..., 1.06262231,\n",
       "         1.2114094 , 1.2114094 ],\n",
       "        [1.61111111, 1.61111111, 1.46530612, ..., 1.07575758,\n",
       "         1.28885135, 1.28885135],\n",
       "        ...,\n",
       "        [2.11464968, 2.17857143, 2.17857143, ..., 1.65661253,\n",
       "         1.65661253, 1.67741935],\n",
       "        [2.11464968, 2.17857143, 2.17857143, ..., 1.65661253,\n",
       "         1.65661253, 1.67741935],\n",
       "        [1.9516129 , 2.09848485, 2.09848485, ..., 2.06342495,\n",
       "         2.06342495, 2.35035211]]])"
      ]
     },
     "execution_count": 73,
     "metadata": {},
     "output_type": "execute_result"
    }
   ],
   "source": [
    "# Each equation result will go into the array in the respective order\n",
    "for i in range(num_eqns):\n",
    "    transformed_array[i] = results[i]\n",
    "\n",
    "transformed_array"
   ]
  },
  {
   "cell_type": "code",
   "execution_count": 74,
   "metadata": {},
   "outputs": [
    {
     "data": {
      "text/plain": [
       "(3, 1255, 635)"
      ]
     },
     "execution_count": 74,
     "metadata": {},
     "output_type": "execute_result"
    }
   ],
   "source": [
    "# Check shape again\n",
    "transformed_array.shape"
   ]
  },
  {
   "cell_type": "markdown",
   "metadata": {},
   "source": [
    "## Creating general functions"
   ]
  },
  {
   "cell_type": "code",
   "execution_count": 88,
   "metadata": {},
   "outputs": [],
   "source": [
    "def transform_image(input_fp, output_fp=None, *equations):\n",
    "    ''' \n",
    "    Transforms an image of format .TIF from the input_fp using the equation \n",
    "    given and then exports it to output_fp. \n",
    "    \n",
    "    Args: \n",
    "        input_fp (str): The file path to retrieve the .TIF file from \n",
    "        output_fp (str): The file path to export the image to once it is \n",
    "        transformed.\n",
    "            None, _transformed will be added to the input filepath (default: None)\n",
    "        *equations: Variable length argument list of equations to transform the image; image will\n",
    "        be transformed in this specific order. Must refer to bands as B1, B2, B3, etc. \n",
    "        \n",
    "    Returns:\n",
    "        None, it will print that the New Transformed Image is stored in the \n",
    "        output_fp\n",
    "        \n",
    "    @author: Kanika Chopra\n",
    "    '''\n",
    "    # Import and open the image\n",
    "    sat_data = rio.open(input_fp)\n",
    "    \n",
    "    # Gather the metadata and collect height and width\n",
    "    src_meta = sat_data.meta\n",
    "    height = src_meta['height']\n",
    "    width = src_meta['width']\n",
    "\n",
    "    # Read the image\n",
    "    img = sat_data.read()\n",
    "    \n",
    "    # Create a dictionary with all the bands\n",
    "    bands = {'B%d'%(i+1): img[i] for i in list(range(img.shape[0]))}\n",
    "    \n",
    "    # Unpack the dictionary as local variables\n",
    "    locals().update(bands)\n",
    "    \n",
    "    # Evaluate our equations on the bands and append to an overall array\n",
    "    num_eqns = len(equations)\n",
    "    \n",
    "    # Create an empty array to index your results into later\n",
    "    transformed_array = np.zeros((num_eqns, height, width))\n",
    "    \n",
    "    for i in range(num_eqns):\n",
    "        transformed_array[i] = eval(equations[i])\n",
    "        print('Equation %d:' % (i+1), equations[i])\n",
    "    \n",
    "    # Export the image \n",
    "    if output_fp==None:\n",
    "        output_fp = append_file_suffix(input_fp, 'transformed')\n",
    "        \n",
    "    # Recreate the metadata and set count to 1 since we want a single-band image\n",
    "    dst_meta = src_meta.copy()\n",
    "    dst_meta['count'] = 1 \n",
    "    \n",
    "    with rio.open(output_fp, 'w', **dst_meta) as dst:\n",
    "        dst.write(result)\n",
    "    \n",
    "    print('New Image after equation(s) applied stored in ' + output_fp)\n",
    "    \n",
    "def append_file_suffix(filepath, suffix=None):\n",
    "    ''' Appends a suffix to a filepath. \n",
    "    Args: \n",
    "        filepath (str): The file path to modify. \n",
    "        suffix (str): The suffix to be appended to the filepath string \n",
    "            None, no suffix is appended (default: None)\n",
    "    Returns: \n",
    "        str: The file path with added suffix\n",
    "    @author: charles\n",
    "    '''\n",
    "    name, ext = os.path.splitext(filepath)\n",
    "    if suffix is not None: \n",
    "        filepath = \"{name}_{uid}{ext}\".format(name=name, uid=suffix, ext=ext)\n",
    "        \n",
    "    return filepath"
   ]
  },
  {
   "cell_type": "code",
   "execution_count": 89,
   "metadata": {},
   "outputs": [
    {
     "name": "stdout",
     "output_type": "stream",
     "text": [
      "Equation 1: B6/B7\n",
      "Equation 2: B6/B4\n",
      "Equation 3: B4/B2\n",
      "New Image after equation(s) applied stored in C:\\Users\\RQ\\Documents\\PCA\\GC_Landsat8_SR_transformed.tif\n"
     ]
    }
   ],
   "source": [
    "input_fp = r\"C:\\Users\\RQ\\Documents\\PCA\\GC_Landsat8_SR.tif\"\n",
    "test_equation = '(B3-B2)/(B3+B2)'\n",
    "transform_image(input_fp, None, eqn1, eqn2, eqn3)"
   ]
  }
 ],
 "metadata": {
  "kernelspec": {
   "display_name": "Python [conda env:pca] *",
   "language": "python",
   "name": "conda-env-pca-py"
  },
  "language_info": {
   "codemirror_mode": {
    "name": "ipython",
    "version": 3
   },
   "file_extension": ".py",
   "mimetype": "text/x-python",
   "name": "python",
   "nbconvert_exporter": "python",
   "pygments_lexer": "ipython3",
   "version": "3.7.5"
  }
 },
 "nbformat": 4,
 "nbformat_minor": 2
}
